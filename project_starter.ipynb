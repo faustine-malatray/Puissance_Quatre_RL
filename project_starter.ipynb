{
 "cells": [
  {
   "cell_type": "code",
   "execution_count": 1,
   "id": "da1cf6bf",
   "metadata": {},
   "outputs": [],
   "source": [
    "# !pip install pettingzoo"
   ]
  },
  {
   "cell_type": "code",
   "execution_count": 2,
   "metadata": {},
   "outputs": [],
   "source": [
    "from pettingzoo.classic import connect_four_v3\n",
    "import numpy as np\n",
    "import matplotlib.pyplot as plt\n",
    "import random as rd\n",
    "\n",
    "import os\n",
    "os.environ[\"SDL_VIDEODRIVER\"] = \"dummy\"\n",
    "from IPython.display import clear_output"
   ]
  },
  {
   "cell_type": "markdown",
   "metadata": {},
   "source": [
    "# Using the PettingZoo environment\n",
    "\n",
    "This notebook provides smalls chunks of code to get you started with the Connect4 project. You do not have to use this code in you final file, but you can if you wish to. "
   ]
  },
  {
   "cell_type": "code",
   "execution_count": 3,
   "metadata": {},
   "outputs": [],
   "source": [
    "env = connect_four_v3.env(render_mode=\"rgb_array\")\n",
    "\n",
    "env.reset()\n",
    "\n",
    "# The main difference with the standard gym api is the way the environment is queried. The `step` method return `None`. \n",
    "# To get the data on the environment, use the `last` method\n",
    "state, reward, terminated, truncated, info = env.last()"
   ]
  },
  {
   "cell_type": "markdown",
   "metadata": {},
   "source": [
    "# Agents\n",
    "\n",
    "Here are some implementations of trivial agents that you should be able to beat ultimately. "
   ]
  },
  {
   "cell_type": "code",
   "execution_count": 4,
   "metadata": {},
   "outputs": [],
   "source": [
    "class RandomPlayer:\n",
    "    def __init__(self, rng=None):\n",
    "        if rng is None:\n",
    "            self.rng = np.random.default_rng()\n",
    "        else:\n",
    "            self.rng = rng\n",
    "\n",
    "        self.name = \"Random Player\"\n",
    "\n",
    "    def get_action(self, obs_mask, epsilon=None):\n",
    "        return self.random_choice_with_mask(np.arange(7), obs_mask[\"action_mask\"])\n",
    "\n",
    "    def random_choice_with_mask(self, arr, mask):\n",
    "        masked_arr = np.ma.masked_array(arr, mask=1 - mask)\n",
    "        if masked_arr.count() == 0:\n",
    "            return None\n",
    "        return self.rng.choice(masked_arr.compressed())\n"
   ]
  },
  {
   "cell_type": "code",
   "execution_count": 5,
   "metadata": {},
   "outputs": [],
   "source": [
    "class PlayLeftmostLegal:\n",
    "    def __init__(self):\n",
    "        self.name = \"Left Player\"\n",
    "\n",
    "    def get_action(self, obs_mask, epsilon=None):\n",
    "        for i, legal in enumerate(obs_mask[\"action_mask\"]):\n",
    "            if legal:\n",
    "                return i\n",
    "        return None\n"
   ]
  },
  {
   "cell_type": "markdown",
   "metadata": {},
   "source": [
    "# Running a game\n",
    "\n",
    "\n",
    "The following function runs a full game between the two agents. "
   ]
  },
  {
   "cell_type": "code",
   "execution_count": 6,
   "metadata": {},
   "outputs": [],
   "source": [
    "def play_game(env, agent0, agent1, display=False):\n",
    "    done = False\n",
    "    env.reset()\n",
    "    obs, _, _, _, _ = env.last()\n",
    "    while not done:\n",
    "        for i, agent in enumerate([agent0, agent1]):\n",
    "            action = agent.get_action(obs, epsilon=0)\n",
    "            env.step(action)\n",
    "            if display:\n",
    "                clear_output(wait=True)\n",
    "                plt.imshow(env.render())\n",
    "                plt.show()\n",
    "            obs, reward, terminated, _, _ = env.last()\n",
    "            done = terminated\n",
    "            if np.sum(obs[\"action_mask\"]) == 0:\n",
    "                if display: \n",
    "                    print('Draw')\n",
    "                return 0.5\n",
    "            if done:\n",
    "                if display:\n",
    "                    print(f\"Player {i}: {agent.name} won\")\n",
    "                    print((obs['observation'][:, :, 0]- obs['observation'][:, :, 1]).shape)\n",
    "                    print(obs['observation'][:, :, 0]- obs['observation'][:, :, 1])\n",
    "                return i"
   ]
  },
  {
   "cell_type": "code",
   "execution_count": 7,
   "id": "3bed62da",
   "metadata": {},
   "outputs": [],
   "source": [
    "def get_pts_up(board, l, c):\n",
    "    '''\n",
    "    Compte le nombre de pions alignés vers le haut,\n",
    "    Les pionts sont ajoutés au score s'il y a une case vide au dessus du pion le plus haut\n",
    "    '''\n",
    "    if l <= 2:\n",
    "        return 0\n",
    "    lined_up = 1\n",
    "    while board[l - lined_up, c ] == board[l, c]:\n",
    "        lined_up += 1\n",
    "        if lined_up == 4:\n",
    "            return 1000\n",
    "    if board[l - lined_up, c ] == 0:\n",
    "        return lined_up\n",
    "    return 0\n",
    "\n",
    "def get_pts_right(board, l, c):\n",
    "    '''\n",
    "    Compte le nombre de pions alignés horizontlement,\n",
    "    Les pionts sont ajoutés au score s'il y a une case vide à droite du pion le plus à droie ou a gauche du pion le plus à gauche\n",
    "    '''\n",
    "    if c >= 4:\n",
    "        return 0\n",
    "    right_possibility = 0\n",
    "    left_possibility = 0\n",
    "    lined_up = 1\n",
    "    while board[l, c + lined_up] == board[l, c]:\n",
    "        lined_up += 1\n",
    "        if lined_up == 4:\n",
    "            return 1000\n",
    "    if board[l, c + lined_up] == 0:\n",
    "        right_possibility = 1\n",
    "    if c != 0 :\n",
    "        if board[l, c - 1] == 0:\n",
    "            left_possibility = 1\n",
    "    return lined_up * (left_possibility + right_possibility)\n",
    "\n",
    "def get_pts_right_down(board, l, c):\n",
    "    '''\n",
    "    Compte le nombre de pions alignés en diagonale vert la droite et le bas,\n",
    "    Les pionts sont ajoutés au score s'il y a une case vide pour agrandir la ligne\n",
    "    '''\n",
    "    if l >= 3 or c >= 4:\n",
    "        return 0\n",
    "    right_possibility = 0\n",
    "    left_possibility = 0\n",
    "    lined_up = 1\n",
    "    while board[l + lined_up, c + lined_up] == board[l, c]:\n",
    "        lined_up += 1\n",
    "        if lined_up == 4:\n",
    "            return 1000\n",
    "    if board[l + lined_up, c + lined_up] == 0:\n",
    "        right_possibility = 1\n",
    "    if c != 0 and l != 0 :\n",
    "        if board[l - 1, c - 1] == 0:\n",
    "            left_possibility = 1\n",
    "    return lined_up * (left_possibility + right_possibility)\n",
    "\n",
    "def get_pts_right_up(board, l, c):\n",
    "    '''\n",
    "    Compte le nombre de pions alignés en diagonale vert la droite et le haut,\n",
    "    Les pionts sont ajoutés au score s'il y a une case vide pour agrandir la ligne\n",
    "    '''\n",
    "    if l <= 2 or c >= 4:\n",
    "        return 0\n",
    "    right_possibility = 0\n",
    "    left_possibility = 0\n",
    "    lined_up = 1\n",
    "    while board[l - lined_up, c + lined_up] == board[l, c]:\n",
    "        lined_up += 1\n",
    "        if lined_up == 4:\n",
    "            return 1000\n",
    "    if board[l - lined_up, c + lined_up] == 0 :\n",
    "        right_possibility = 1\n",
    "    if c != 0 and l != 5 :\n",
    "        if board[l + 1, c - 1] == 0:\n",
    "            left_possibility = 1\n",
    "    return lined_up * (left_possibility + right_possibility)\n",
    "\n",
    "def evaluate_position(board):\n",
    "    ''' \n",
    "    Cette fonction  prend une grille de puissance 4 en entrée\n",
    "    La fonction retourne un score\n",
    "    Plus le score est élevé, plus le joueur 1 est en bonne position\n",
    "    '''\n",
    "    score_1 = 0\n",
    "    score_2 = 0\n",
    "    for l in range(6):\n",
    "        for c in range(7):\n",
    "            if board[l,c] == 1:\n",
    "                score_1 = score_1 + get_pts_up(board, l, c) + get_pts_right(board, l, c) + get_pts_right_down(board, l, c) + get_pts_right_up(board, l, c)\n",
    "            if board[l,c] == -1:\n",
    "                score_2 = score_2 + get_pts_up(board, l, c) + get_pts_right(board, l, c) + get_pts_right_down(board, l, c) + get_pts_right_up(board, l, c)\n",
    "    #print('Score de 1 :', score_1)\n",
    "    #print('Score de 2 :', score_2)\n",
    "    return score_1 - score_2\n"
   ]
  },
  {
   "cell_type": "code",
   "execution_count": 10,
   "id": "4f64930d",
   "metadata": {},
   "outputs": [
    {
     "data": {
      "text/plain": [
       "4"
      ]
     },
     "execution_count": 10,
     "metadata": {},
     "output_type": "execute_result"
    }
   ],
   "source": [
    "board = np.array([[0, 0, 0, 0, 0, 0, 0],\n",
    "                  [0, 0, 0, 0, 0, 0, 0],\n",
    "                  [0, 0, 0, 0, 0, 0, 0],\n",
    "                  [0, 0, 0, 0, 0, 0, 0],\n",
    "                  [0, 0, 0, 0, 0, 0, 0],\n",
    "                  [0, 0, 0, 1, 0, 0, 0]])\n",
    "\n",
    "evaluate_position(board)\n"
   ]
  },
  {
   "cell_type": "code",
   "execution_count": 11,
   "id": "10a9a902",
   "metadata": {},
   "outputs": [],
   "source": [
    "def new_move(board, i):\n",
    "    layer = 5\n",
    "    bottom = board[layer,i]\n",
    "    while bottom !=0 and layer>0 :\n",
    "        #print(i,\"on monte d'un cran\")\n",
    "        layer-=1\n",
    "        bottom = board[layer,i]\n",
    "    if layer == 0 and bottom !=0:\n",
    "        print(\"on est tout en haut y a pas de place\")\n",
    "    else :\n",
    "        new_board = board.copy()\n",
    "        new_board[layer,i] = 1\n",
    "    return new_board\n",
    "\n",
    "def get_move_score(board, i):\n",
    "    board_after_i = new_move(board, i)\n",
    "    a = evaluate_position(board_after_i)\n",
    "    return a\n"
   ]
  },
  {
   "cell_type": "code",
   "execution_count": 12,
   "id": "105bc64f",
   "metadata": {},
   "outputs": [],
   "source": [
    "def is_blunder(board, i):\n",
    "    'This function check if tthere is a win in one move for the opponent'\n",
    "    is_blunder = False\n",
    "    board_after_i = new_move(board, i)\n",
    "    board_after_i_for_opponent = - board_after_i\n",
    "    for i in range(7):\n",
    "        if board_after_i_for_opponent[0,i] == 0:\n",
    "            if get_move_score(board_after_i_for_opponent, i) > 500 :\n",
    "                is_blunder = True\n",
    "    return is_blunder\n",
    "\n",
    "def get_move_score_with_blunder(board, i, random_percentage):\n",
    "    if is_blunder(board, i):\n",
    "        return -1000\n",
    "    if rd.random() < random_percentage:\n",
    "        return - 10\n",
    "    return get_move_score(board, i)"
   ]
  },
  {
   "cell_type": "code",
   "execution_count": 13,
   "id": "4c2f3396",
   "metadata": {},
   "outputs": [],
   "source": [
    "def best_score_for_opponent(board, i):\n",
    "    board_after_i = new_move(board, i)\n",
    "    board_after_i_for_opponent = - board_after_i\n",
    "    best_score = - 10000\n",
    "    for i in range(7):\n",
    "        if board_after_i_for_opponent[0,i] == 0:\n",
    "            move_score = get_move_score(board_after_i_for_opponent, i)\n",
    "            if move_score > best_score:\n",
    "                best_score = move_score\n",
    "    return best_score\n",
    "\n",
    "def get_move_score_depth_2(board, i, random_percentage):\n",
    "    if rd.random() < random_percentage:\n",
    "        return - 10\n",
    "    return get_move_score(board, i) - best_score_for_opponent(board, i)"
   ]
  },
  {
   "cell_type": "code",
   "execution_count": 17,
   "id": "d6fc6740",
   "metadata": {},
   "outputs": [],
   "source": [
    "class MalynxWithoutBlunder:\n",
    "    def __init__(self, random_percentage = 0):\n",
    "        self.name = \"Malynx Avoiding Blunder\"\n",
    "        self.random_percentage = random_percentage\n",
    "    def get_action(self, obs_mask, epsilon=None):\n",
    "        if np.sum(obs_mask['observation']) == 0:\n",
    "            return 3\n",
    "        board = obs_mask['observation'][:, :, 0]- obs_mask['observation'][:, :, 1]\n",
    "        best_move_score = - 10000\n",
    "        best_move = 10\n",
    "        for i, legal in enumerate(obs_mask[\"action_mask\"]):\n",
    "            if legal:\n",
    "                move_score = get_move_score_with_blunder(board, i, self.random_percentage)\n",
    "                if move_score == best_move_score and rd.random() < 0.5:\n",
    "                    best_move = i\n",
    "                if move_score > best_move_score:\n",
    "                    best_move_score = move_score\n",
    "                    best_move = i\n",
    "        return best_move"
   ]
  },
  {
   "cell_type": "code",
   "execution_count": 18,
   "id": "1e7752a7",
   "metadata": {},
   "outputs": [],
   "source": [
    "class MalynxDeep:\n",
    "    def __init__(self, random_percentage = 0):\n",
    "        self.name = \"Malynx Deep\"\n",
    "        self.random_percentage = random_percentage\n",
    "    def get_action(self, obs_mask, epsilon=None):\n",
    "        if np.sum(obs_mask['observation']) == 0:\n",
    "            return 3\n",
    "        board = obs_mask['observation'][:, :, 0]- obs_mask['observation'][:, :, 1]\n",
    "        best_move_score = - 10000\n",
    "        best_move = 10\n",
    "        for i, legal in enumerate(obs_mask[\"action_mask\"]):\n",
    "            if legal:\n",
    "                move_score = get_move_score_depth_2(board, i, self.random_percentage)\n",
    "                if move_score == best_move_score and rd.random() < 0.5:\n",
    "                    best_move = i\n",
    "                if move_score > best_move_score:\n",
    "                    best_move_score = move_score\n",
    "                    best_move = i\n",
    "        return best_move"
   ]
  },
  {
   "cell_type": "code",
   "execution_count": 32,
   "id": "78e5246a",
   "metadata": {},
   "outputs": [
    {
     "ename": "ImportError",
     "evalue": "cannot import name 'MalynxAvoidingBlunder' from 'malynx_avoiding_blunder' (/Users/Mathian/Documents/IA/RL/project/Puissance_Quatre_RL/malynx_avoiding_blunder.py)",
     "output_type": "error",
     "traceback": [
      "\u001b[0;31m---------------------------------------------------------------------------\u001b[0m",
      "\u001b[0;31mImportError\u001b[0m                               Traceback (most recent call last)",
      "\u001b[1;32m/Users/Mathian/Documents/IA/RL/project/Puissance_Quatre_RL/project_starter.ipynb Cellule 17\u001b[0m in \u001b[0;36m<cell line: 1>\u001b[0;34m()\u001b[0m\n\u001b[0;32m----> <a href='vscode-notebook-cell:/Users/Mathian/Documents/IA/RL/project/Puissance_Quatre_RL/project_starter.ipynb#X35sZmlsZQ%3D%3D?line=0'>1</a>\u001b[0m \u001b[39mfrom\u001b[39;00m \u001b[39mmalynx_avoiding_blunder\u001b[39;00m \u001b[39mimport\u001b[39;00m MalynxAvoidingBlunder\n",
      "\u001b[0;31mImportError\u001b[0m: cannot import name 'MalynxAvoidingBlunder' from 'malynx_avoiding_blunder' (/Users/Mathian/Documents/IA/RL/project/Puissance_Quatre_RL/malynx_avoiding_blunder.py)"
     ]
    }
   ],
   "source": [
    "from malynx_avoiding_blunder.py import MalynxAvoidingBlunder"
   ]
  },
  {
   "cell_type": "code",
   "execution_count": 19,
   "metadata": {},
   "outputs": [
    {
     "data": {
      "image/png": "[encoded data removed]",
      "text/plain": [
       "<Figure size 640x480 with 1 Axes>"
      ]
     },
     "metadata": {},
     "output_type": "display_data"
    },
    {
     "name": "stdout",
     "output_type": "stream",
     "text": [
      "Player 0: Malynx Deep won\n",
      "(6, 7)\n",
      "[[ 1  1  1 -1  1  0  1]\n",
      " [-1  1 -1 -1 -1  0 -1]\n",
      " [-1  1  1 -1  1  0  1]\n",
      " [ 1 -1 -1  1  1 -1 -1]\n",
      " [ 1  1  1 -1 -1  1  1]\n",
      " [-1 -1  1  1 -1 -1 -1]]\n"
     ]
    },
    {
     "data": {
      "text/plain": [
       "0"
      ]
     },
     "execution_count": 19,
     "metadata": {},
     "output_type": "execute_result"
    }
   ],
   "source": [
    "agent0 = MalynxDeep(0.1)\n",
    "agent1 = MalynxWithoutBlunder(0.1)\n",
    "\n",
    "play_game(env, agent0, agent1, display=True)"
   ]
  },
  {
   "cell_type": "code",
   "execution_count": 25,
   "metadata": {},
   "outputs": [
    {
     "name": "stdout",
     "output_type": "stream",
     "text": [
      "Malynx Deep  starts\n"
     ]
    },
    {
     "data": {
      "image/png": "[encoded data removed]",
      "text/plain": [
       "<Figure size 640x480 with 1 Axes>"
      ]
     },
     "metadata": {},
     "output_type": "display_data"
    },
    {
     "name": "stdout",
     "output_type": "stream",
     "text": [
      "Win percentage of  Malynx Deep  :  81 %\n",
      "Malynx Avoiding Blunder  starts\n"
     ]
    },
    {
     "data": {
      "image/png": "[encoded data removed]",
      "text/plain": [
       "<Figure size 640x480 with 1 Axes>"
      ]
     },
     "metadata": {},
     "output_type": "display_data"
    },
    {
     "name": "stdout",
     "output_type": "stream",
     "text": [
      "Win percentage of  Malynx Avoiding Blunder  :  86 %\n"
     ]
    }
   ],
   "source": [
    "print(agent0.name, 'starts')\n",
    "L = [play_game(env, agent0, agent1, display=False) for _ in range(30)]\n",
    "plt.hist(L)\n",
    "plt.show()\n",
    "print('\\nWin percentage of ', agent0.name, ' : ', int(100*(len(L) - sum(L)) /len(L)), '%')\n",
    "\n",
    "print(agent1.name, 'starts')\n",
    "L = [play_game(env, agent1, agent0, display=False) for _ in range(30)]\n",
    "plt.hist(L)\n",
    "plt.show()\n",
    "print('\\nWin percentage of', agent1.name, ' : ', int(100*(len(L) - sum(L)) /len(L)), '%')\n"
   ]
  },
  {
   "cell_type": "markdown",
   "metadata": {},
   "source": [
    "# Emulating a Gym environment\n",
    "\n",
    "If we fix the opposite policy, the game from the point of view of the agent is equivalent to a Gym environment. The following class implements this simulation. Then any algorithm that would work in a gym environment with the same observations will work here. \n",
    "\n",
    "Note that we implemented the possibility to be the first or the second player. "
   ]
  },
  {
   "cell_type": "code",
   "execution_count": null,
   "metadata": {},
   "outputs": [],
   "source": [
    "class EnvAgainstPolicy: \n",
    "    def __init__(self, env, policy, first_player=True):\n",
    "        self.policy = policy\n",
    "        self.env = env\n",
    "        self.first_player = first_player\n",
    "        self.reset()\n",
    "\n",
    "    def step(self, action):\n",
    "        self.env.step(action)\n",
    "        obs, reward, terminated, _, _ = self.env.last()\n",
    "        if terminated: \n",
    "            self.last_step = obs, reward, True, False, {}\n",
    "        else: \n",
    "            action = self.policy.get_action(obs)\n",
    "            self.env.step(action)\n",
    "            obs, reward, terminated, _, _ = self.env.last()\n",
    "            self.last_step = obs, -reward, terminated, False, {}\n",
    "        return self.last_step\n",
    "\n",
    "    def reset(self):\n",
    "        self.env.reset()\n",
    "        if not(self.first_player): \n",
    "            obs, _, _, _, _ = self.env.last()\n",
    "            action = self.policy.get_action(obs)\n",
    "            self.env.step(action)\n",
    "\n",
    "        self.last_step = self.env.last()\n",
    "        return self.last_step\n",
    "\n",
    "    def last(self):\n",
    "        return self.last_step"
   ]
  },
  {
   "cell_type": "markdown",
   "metadata": {},
   "source": [
    "# Evaluating an agent against a fixed policy: \n",
    "\n",
    "Using the environment above, we can evaluate the agent against this fixed policy. "
   ]
  },
  {
   "cell_type": "code",
   "execution_count": null,
   "metadata": {},
   "outputs": [],
   "source": [
    "def eval_against_policy(env, agent, policy, N_episodes=10, first_player=True):\n",
    "    eval_env = EnvAgainstPolicy(env, policy, first_player=first_player)\n",
    "    results = []\n",
    "    for _ in range(N_episodes):\n",
    "        done = False\n",
    "        eval_env.reset()\n",
    "        obs, _, _, _, _ = eval_env.last()\n",
    "        while not done:\n",
    "            action = agent.get_action(obs, epsilon=0)\n",
    "            eval_env.step(action)\n",
    "            obs, reward, done, _, _ = eval_env.last()\n",
    "        results.append(reward)\n",
    "    return results"
   ]
  },
  {
   "cell_type": "markdown",
   "metadata": {},
   "source": [
    "We can see that if both players play randomly, there is a small but significant advantage to the first player. "
   ]
  },
  {
   "cell_type": "code",
   "execution_count": 24,
   "metadata": {},
   "outputs": [
    {
     "data": {
      "image/png": "[encoded data removed]",
      "text/plain": [
       "<Figure size 640x480 with 1 Axes>"
      ]
     },
     "metadata": {},
     "output_type": "display_data"
    },
    {
     "data": {
      "image/png": "[encoded data removed]",
      "text/plain": [
       "<Figure size 640x480 with 1 Axes>"
      ]
     },
     "metadata": {},
     "output_type": "display_data"
    }
   ],
   "source": [
    "plt.hist(eval_against_policy(env, RandomPlayer(), RandomPlayer(), N_episodes=1000, first_player=False))\n",
    "plt.show()\n",
    "plt.hist(eval_against_policy(env, RandomPlayer(), RandomPlayer(), N_episodes=1000, first_player=True))\n",
    "plt.show()"
   ]
  },
  {
   "cell_type": "markdown",
   "metadata": {},
   "source": [
    "# Your turn \n",
    "\n",
    "Try to build a decent agent. Be creative! You can try any idea that you have: the grade is not about performance of the agent, but more about illustrating phenomena happening in Reinforcement Learning for turn-based games. It's okay to 'help' the agent in any way, as long as it follows the ideas of RL (i.e., as long as there is some learning involved).\n",
    "\n",
    "\n"
   ]
  },
  {
   "cell_type": "markdown",
   "metadata": {},
   "source": []
  }
 ],
 "metadata": {
  "kernelspec": {
   "display_name": "Python 3",
   "language": "python",
   "name": "python3"
  },
  "language_info": {
   "codemirror_mode": {
    "name": "ipython",
    "version": 3
   },
   "file_extension": ".py",
   "mimetype": "text/x-python",
   "name": "python",
   "nbconvert_exporter": "python",
   "pygments_lexer": "ipython3",
   "version": "3.9.16"
  }
 },
 "nbformat": 4,
 "nbformat_minor": 5
}
