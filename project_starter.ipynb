{
 "cells": [
  {
   "cell_type": "code",
   "execution_count": 268,
   "id": "da1cf6bf",
   "metadata": {},
   "outputs": [],
   "source": [
    "# !pip install pettingzoo"
   ]
  },
  {
   "cell_type": "code",
   "execution_count": 269,
   "metadata": {},
   "outputs": [],
   "source": [
    "from pettingzoo.classic import connect_four_v3\n",
    "import numpy as np\n",
    "import matplotlib.pyplot as plt\n",
    "\n",
    "import os\n",
    "os.environ[\"SDL_VIDEODRIVER\"] = \"dummy\"\n",
    "from IPython.display import clear_output"
   ]
  },
  {
   "cell_type": "markdown",
   "metadata": {},
   "source": [
    "# Using the PettingZoo environment\n",
    "\n",
    "This notebook provides smalls chunks of code to get you started with the Connect4 project. You do not have to use this code in you final file, but you can if you wish to. "
   ]
  },
  {
   "cell_type": "code",
   "execution_count": 270,
   "metadata": {},
   "outputs": [
    {
     "name": "stdout",
     "output_type": "stream",
     "text": [
      "shape observation\n",
      " (6, 7, 2)\n",
      "joueur 0\n",
      " [[0 0 0 0 0 0 0]\n",
      " [0 0 0 0 0 0 0]\n",
      " [0 0 0 0 0 0 0]\n",
      " [0 0 0 0 0 0 0]\n",
      " [0 0 0 0 0 0 0]\n",
      " [0 0 0 0 0 0 0]]\n",
      "joueur 1\n",
      " [[0 0 0 0 0 0 0]\n",
      " [0 0 0 0 0 0 0]\n",
      " [0 0 0 0 0 0 0]\n",
      " [0 0 0 0 0 0 0]\n",
      " [0 0 0 0 0 0 0]\n",
      " [0 0 0 0 0 0 0]]\n",
      "action mask\n",
      " [1 1 1 1 1 1 1]\n"
     ]
    }
   ],
   "source": [
    "env = connect_four_v3.env(render_mode=\"rgb_array\")\n",
    "\n",
    "env.reset()\n",
    "\n",
    "# The main difference with the standard gym api is the way the environment is queried. The `step` method return `None`. \n",
    "# To get the data on the environment, use the `last` method\n",
    "state, reward, terminated, truncated, info = env.last()\n",
    "\n",
    "# state is a dictionary with two keys: observation and action_mask\n",
    "print('shape observation\\n', state[\"observation\"].shape)  # Observation is a numpy array with three coordinates, indicating the positions of the pieces of player 0 and 1 on the the board\n",
    "print('joueur 0\\n', state[\"observation\"][:, :, 0])  # Where the pieces of player 0 are\n",
    "print('joueur 1\\n', state[\"observation\"][:, :, 1])  # Where the pieces of player 1 are\n",
    "\n",
    "print('action mask\\n', state[\"action_mask\"])  # an array showing whether the actions are legal or nots\n"
   ]
  },
  {
   "cell_type": "code",
   "execution_count": 271,
   "metadata": {},
   "outputs": [
    {
     "name": "stdout",
     "output_type": "stream",
     "text": [
      "shape observation\n",
      " (6, 7, 2)\n",
      "joueur 0\n",
      " [[0 0 0 0 0 0 0]\n",
      " [0 0 0 0 0 0 0]\n",
      " [0 0 0 0 0 0 0]\n",
      " [0 0 0 0 0 0 0]\n",
      " [0 0 0 0 0 0 0]\n",
      " [0 0 0 0 0 0 0]]\n",
      "joueur 1\n",
      " [[0 0 0 0 0 0 0]\n",
      " [0 0 0 0 0 0 0]\n",
      " [0 0 0 0 0 0 0]\n",
      " [0 0 0 0 0 0 0]\n",
      " [0 0 0 0 0 0 0]\n",
      " [1 0 0 0 0 0 0]]\n",
      "action mask\n",
      " [1 1 1 1 1 1 1]\n"
     ]
    }
   ],
   "source": [
    "env.reset()\n",
    "env.step(0)\n",
    "\n",
    "state, reward, terminated, truncated, info = env.last()\n",
    "\n",
    "print('shape observation\\n', state[\"observation\"].shape) \n",
    "print('joueur 0\\n', state[\"observation\"][:, :, 0])  \n",
    "print('joueur 1\\n', state[\"observation\"][:, :, 1])  \n",
    "\n",
    "print('action mask\\n', state[\"action_mask\"])\n"
   ]
  },
  {
   "cell_type": "markdown",
   "metadata": {},
   "source": [
    "# Agents\n",
    "\n",
    "Here are some implementations of trivial agents that you should be able to beat ultimately. "
   ]
  },
  {
   "cell_type": "code",
   "execution_count": 272,
   "metadata": {},
   "outputs": [],
   "source": [
    "class RandomPlayer:\n",
    "    def __init__(self, rng=None):\n",
    "        if rng is None:\n",
    "            self.rng = np.random.default_rng()\n",
    "        else:\n",
    "            self.rng = rng\n",
    "\n",
    "        self.name = \"Random Player\"\n",
    "\n",
    "    def get_action(self, obs_mask, epsilon=None):\n",
    "        return self.random_choice_with_mask(np.arange(7), obs_mask[\"action_mask\"])\n",
    "\n",
    "    def random_choice_with_mask(self, arr, mask):\n",
    "        masked_arr = np.ma.masked_array(arr, mask=1 - mask)\n",
    "        if masked_arr.count() == 0:\n",
    "            return None\n",
    "        return self.rng.choice(masked_arr.compressed())\n"
   ]
  },
  {
   "cell_type": "code",
   "execution_count": 273,
   "metadata": {},
   "outputs": [],
   "source": [
    "class PlayLeftmostLegal:\n",
    "    def __init__(self):\n",
    "        self.name = \"Left Player\"\n",
    "\n",
    "    def get_action(self, obs_mask, epsilon=None):\n",
    "        for i, legal in enumerate(obs_mask[\"action_mask\"]):\n",
    "            if legal:\n",
    "                return i\n",
    "        return None\n"
   ]
  },
  {
   "cell_type": "markdown",
   "metadata": {},
   "source": [
    "# Running a game\n",
    "\n",
    "\n",
    "The following function runs a full game between the two agents. "
   ]
  },
  {
   "cell_type": "code",
   "execution_count": 274,
   "metadata": {},
   "outputs": [],
   "source": [
    "def play_game(env, agent0, agent1, display=False):\n",
    "    done = False\n",
    "    env.reset()\n",
    "    obs, _, _, _, _ = env.last()\n",
    "    while not done:\n",
    "        for i, agent in enumerate([agent0, agent1]):\n",
    "            action = agent.get_action(obs, epsilon=0)\n",
    "            env.step(action)\n",
    "            if display:\n",
    "                clear_output(wait=True)\n",
    "                plt.imshow(env.render())\n",
    "                plt.show()\n",
    "            obs, reward, terminated, _, _ = env.last()\n",
    "            done = terminated\n",
    "            if np.sum(obs[\"action_mask\"]) == 0:\n",
    "                if display: \n",
    "                    print('Draw')\n",
    "                return 0.5\n",
    "            if done:\n",
    "                if display:\n",
    "                    print(f\"Player {i}: {agent.name} won\")\n",
    "                    print((obs['observation'][:, :, 0]- obs['observation'][:, :, 1]).shape)\n",
    "                    print(obs['observation'][:, :, 0]- obs['observation'][:, :, 1])\n",
    "                return i"
   ]
  },
  {
   "cell_type": "code",
   "execution_count": 316,
   "id": "3bed62da",
   "metadata": {},
   "outputs": [],
   "source": [
    "def get_pts_up(board, l, c):\n",
    "    if l <= 2:\n",
    "        return 0\n",
    "    lined_up = 1\n",
    "    while board[l - lined_up, c ] == board[l, c]:\n",
    "        lined_up += 1\n",
    "        if lined_up == 4:\n",
    "            break\n",
    "    if lined_up >= 4:\n",
    "        return 100\n",
    "    if board[l - lined_up, c ] == 0:\n",
    "        return lined_up\n",
    "    return 0\n",
    "\n",
    "def get_pts_right(board, l, c):\n",
    "    if c >= 4:\n",
    "        return 0\n",
    "    right_possibility = 0\n",
    "    left_possibility = 0\n",
    "    lined_up = 1\n",
    "    while board[l, c + lined_up] == board[l, c]:\n",
    "        lined_up += 1\n",
    "        if lined_up == 4:\n",
    "            break\n",
    "    if lined_up >= 4:\n",
    "        return 100\n",
    "    if board[l, c + lined_up] == 0:\n",
    "        right_possibility = 1\n",
    "    if c != 0 :\n",
    "        if board[l, c - 1] == 0:\n",
    "            left_possibility = 1\n",
    "    return lined_up * (left_possibility + right_possibility)\n",
    "\n",
    "def get_pts_right_down(board, l, c):\n",
    "    if l >= 2 or c >= 3:\n",
    "        return 0\n",
    "    right_possibility = 0\n",
    "    left_possibility = 0\n",
    "    lined_up = 1\n",
    "    while board[l + lined_up, c + lined_up] == board[l, c]:\n",
    "        lined_up += 1\n",
    "        if lined_up == 4:\n",
    "            break\n",
    "    if lined_up >= 4:\n",
    "        return 100\n",
    "    if board[l + lined_up, c + lined_up] == 0:\n",
    "        right_possibility = 1\n",
    "    if c != 0 and l != 0 :\n",
    "        if board[l - 1, c - 1] == 0:\n",
    "            left_possibility = 1\n",
    "    return lined_up * (left_possibility + right_possibility)\n",
    "\n",
    "def get_pts_right_up(board, l, c):\n",
    "    if l <= 4 or c >= 4:\n",
    "        return 0\n",
    "    right_possibility = 0\n",
    "    left_possibility = 0\n",
    "    lined_up = 1\n",
    "    try:\n",
    "        while board[l - lined_up, c + lined_up] == board[l, c]:\n",
    "            lined_up += 1\n",
    "            if lined_up == 4:\n",
    "                break\n",
    "    except :\n",
    "        print(\"Lined_up : \", lined_up)\n",
    "        print(\"colonne qui bloque : \", c + lined_up)\n",
    "        print(\"ligne qui bloque : \", l - lined_up)\n",
    "        print('case de depart: ', l, c)\n",
    "    if lined_up >= 4:\n",
    "        return 100\n",
    "    if board[l - lined_up, c + lined_up] == 0 :\n",
    "        right_possibility = 1\n",
    "    if c != 0 and l != 5 :\n",
    "        if board[l + 1, c - 1] == 0:\n",
    "            left_possibility = 1\n",
    "    return lined_up * (left_possibility + right_possibility)\n",
    "\n",
    "def evaluate_position(board):\n",
    "    ''' Cette fonction  prend une grille de puissance 4 en entrée\n",
    "    La fonction retourne un score\n",
    "    Plus le score est élevé, plus le joueur 1 est en bonne position\n",
    "    '''\n",
    "    score_1 = 0\n",
    "    score_2 = 0\n",
    "    for l in range(6):\n",
    "        for c in range(7):\n",
    "            if board[l,c] == 1:\n",
    "                score_1 = score_1 + get_pts_up(board, l, c) + get_pts_right(board, l, c) + get_pts_right_down(board, l, c) + get_pts_right_up(board, l, c)\n",
    "            if board[l,c] == -1:\n",
    "                score_2 = score_2 + get_pts_up(board, l, c) + get_pts_right(board, l, c) + get_pts_right_down(board, l, c) + get_pts_right_up(board, l, c)\n",
    "    #print('Score de 1 :', score_1)\n",
    "    #print('Score de 2 :', score_2)\n",
    "    return score_1 - score_2\n"
   ]
  },
  {
   "cell_type": "code",
   "execution_count": 317,
   "id": "4f64930d",
   "metadata": {},
   "outputs": [
    {
     "name": "stdout",
     "output_type": "stream",
     "text": [
      "3\n",
      "4\n",
      "4\n",
      "4\n",
      "1\n",
      "1\n",
      "1\n",
      "max_score 4\n"
     ]
    },
    {
     "data": {
      "text/plain": [
       "3"
      ]
     },
     "execution_count": 317,
     "metadata": {},
     "output_type": "execute_result"
    }
   ],
   "source": [
    "board = np.array([[0, 0, 0, 0, 0, 0, 0],\n",
    "                  [0, 0, 0, 0, 0, 0, 0],\n",
    "                  [0, 0, 0, 0, 0, 0, 0],\n",
    "                  [0, 0, 0, 0, 0, 0, 0],\n",
    "                  [0, 0, 0, 0, 0, 0, 0],\n",
    "                  [0, 0, 0, 0, 0, 0, 0]])\n",
    "\n",
    "#evaluate_position(board)\n",
    "evaluate_best_choice(board)"
   ]
  },
  {
   "cell_type": "code",
   "execution_count": 318,
   "id": "10a9a902",
   "metadata": {},
   "outputs": [],
   "source": [
    "def new_move(board, i):\n",
    "    layer = 5\n",
    "    bottom = board[layer,i]\n",
    "    while bottom !=0 and layer>0 :\n",
    "        #print(i,\"on monte d'un cran\")\n",
    "        layer-=1\n",
    "        bottom = board[layer,i]\n",
    "    if layer == 0 and bottom !=0:\n",
    "        print(\"on est tout en haut y a pas de place\")\n",
    "    else :\n",
    "        new_board = board.copy()\n",
    "        #print(i,\"on va ajouter un pion ici\")\n",
    "        new_board[layer,i] = 1\n",
    "    return new_board\n",
    "\n",
    "def evaluate_best_choice(board):\n",
    "    \"\"\" fonction qui return la liste des meilleurs coups à jouer \"\"\"\n",
    "    liste_future_score = []\n",
    "    for i in range(7) :\n",
    "        board_after_i = new_move(board, i)\n",
    "        a = evaluate_position(board_after_i)\n",
    "        print(a)\n",
    "        liste_future_score.append(a)\n",
    "    max_score = max(liste_future_score)\n",
    "    print(\"max_score\",max_score)\n",
    "    indices = [i for i, score in enumerate(liste_future_score) if score == max_score]\n",
    "    return np.random.choice(indices)\n",
    "\n",
    "def get_move_score(board, i):\n",
    "    board_after_i = new_move(board, i)\n",
    "    a = evaluate_position(board_after_i)\n",
    "    return a"
   ]
  },
  {
   "cell_type": "code",
   "execution_count": 319,
   "id": "ce61d946",
   "metadata": {},
   "outputs": [
    {
     "name": "stdout",
     "output_type": "stream",
     "text": [
      "3\n",
      "4\n",
      "4\n",
      "4\n",
      "1\n",
      "1\n",
      "1\n",
      "max_score 4\n"
     ]
    },
    {
     "data": {
      "text/plain": [
       "2"
      ]
     },
     "execution_count": 319,
     "metadata": {},
     "output_type": "execute_result"
    }
   ],
   "source": [
    "evaluate_best_choice(board)"
   ]
  },
  {
   "cell_type": "code",
   "execution_count": 320,
   "id": "d6fc6740",
   "metadata": {},
   "outputs": [],
   "source": [
    "class Malynx:\n",
    "    def __init__(self):\n",
    "        self.name = \"Malynx Player\"\n",
    "\n",
    "    def get_action(self, obs_mask, epsilon=None):\n",
    "        board = obs_mask['observation'][:, :, 0]- obs_mask['observation'][:, :, 1]\n",
    "        if np.sum(obs_mask['observation']) < 2 :\n",
    "            return 3\n",
    "        best_move_score = - 1000\n",
    "        best_move = 10\n",
    "        for i, legal in enumerate(obs_mask[\"action_mask\"]):\n",
    "            if legal:\n",
    "                move_score = get_move_score(board, i)\n",
    "                if move_score > best_move_score:\n",
    "                    best_move_score = move_score\n",
    "                    best_move = i\n",
    "        return best_move"
   ]
  },
  {
   "cell_type": "code",
   "execution_count": 321,
   "metadata": {},
   "outputs": [
    {
     "data": {
      "image/png": "[encoded data removed]",
      "text/plain": [
       "<Figure size 640x480 with 1 Axes>"
      ]
     },
     "metadata": {},
     "output_type": "display_data"
    },
    {
     "name": "stdout",
     "output_type": "stream",
     "text": [
      "Player 1: Malynx Player won\n",
      "(6, 7)\n",
      "[[ 0  0  0  0  0  0  0]\n",
      " [ 0  0  0  0  0  0  0]\n",
      " [ 0  0  0  0  1  0  0]\n",
      " [ 0  0  0  1 -1  0  0]\n",
      " [ 0  0  1  1 -1  0 -1]\n",
      " [ 0  1 -1  1 -1  0 -1]]\n"
     ]
    },
    {
     "data": {
      "text/plain": [
       "1"
      ]
     },
     "execution_count": 321,
     "metadata": {},
     "output_type": "execute_result"
    }
   ],
   "source": [
    "agent0 = RandomPlayer()\n",
    "agent1 = Malynx()\n",
    "\n",
    "play_game(env, agent0, agent1, display=True)"
   ]
  },
  {
   "cell_type": "code",
   "execution_count": 322,
   "metadata": {},
   "outputs": [
    {
     "ename": "IndexError",
     "evalue": "index 7 is out of bounds for axis 1 with size 7",
     "output_type": "error",
     "traceback": [
      "\u001b[0;31m---------------------------------------------------------------------------\u001b[0m",
      "\u001b[0;31mIndexError\u001b[0m                                Traceback (most recent call last)",
      "\u001b[1;32m/Users/Mathian/Documents/IA/RL/project/Puissance_Quatre_RL/project_starter.ipynb Cellule 17\u001b[0m in \u001b[0;36m<cell line: 1>\u001b[0;34m()\u001b[0m\n\u001b[0;32m----> <a href='vscode-notebook-cell:/Users/Mathian/Documents/IA/RL/project/Puissance_Quatre_RL/project_starter.ipynb#X16sZmlsZQ%3D%3D?line=0'>1</a>\u001b[0m plt\u001b[39m.\u001b[39mhist([play_game(env, agent0, agent1, display\u001b[39m=\u001b[39m\u001b[39mFalse\u001b[39;00m) \u001b[39mfor\u001b[39;00m _ \u001b[39min\u001b[39;00m \u001b[39mrange\u001b[39m(\u001b[39m100\u001b[39m)])\n\u001b[1;32m      <a href='vscode-notebook-cell:/Users/Mathian/Documents/IA/RL/project/Puissance_Quatre_RL/project_starter.ipynb#X16sZmlsZQ%3D%3D?line=1'>2</a>\u001b[0m plt\u001b[39m.\u001b[39mshow()\n",
      "\u001b[1;32m/Users/Mathian/Documents/IA/RL/project/Puissance_Quatre_RL/project_starter.ipynb Cellule 17\u001b[0m in \u001b[0;36m<listcomp>\u001b[0;34m(.0)\u001b[0m\n\u001b[0;32m----> <a href='vscode-notebook-cell:/Users/Mathian/Documents/IA/RL/project/Puissance_Quatre_RL/project_starter.ipynb#X16sZmlsZQ%3D%3D?line=0'>1</a>\u001b[0m plt\u001b[39m.\u001b[39mhist([play_game(env, agent0, agent1, display\u001b[39m=\u001b[39;49m\u001b[39mFalse\u001b[39;49;00m) \u001b[39mfor\u001b[39;00m _ \u001b[39min\u001b[39;00m \u001b[39mrange\u001b[39m(\u001b[39m100\u001b[39m)])\n\u001b[1;32m      <a href='vscode-notebook-cell:/Users/Mathian/Documents/IA/RL/project/Puissance_Quatre_RL/project_starter.ipynb#X16sZmlsZQ%3D%3D?line=1'>2</a>\u001b[0m plt\u001b[39m.\u001b[39mshow()\n",
      "\u001b[1;32m/Users/Mathian/Documents/IA/RL/project/Puissance_Quatre_RL/project_starter.ipynb Cellule 17\u001b[0m in \u001b[0;36mplay_game\u001b[0;34m(env, agent0, agent1, display)\u001b[0m\n\u001b[1;32m      <a href='vscode-notebook-cell:/Users/Mathian/Documents/IA/RL/project/Puissance_Quatre_RL/project_starter.ipynb#X16sZmlsZQ%3D%3D?line=4'>5</a>\u001b[0m \u001b[39mwhile\u001b[39;00m \u001b[39mnot\u001b[39;00m done:\n\u001b[1;32m      <a href='vscode-notebook-cell:/Users/Mathian/Documents/IA/RL/project/Puissance_Quatre_RL/project_starter.ipynb#X16sZmlsZQ%3D%3D?line=5'>6</a>\u001b[0m     \u001b[39mfor\u001b[39;00m i, agent \u001b[39min\u001b[39;00m \u001b[39menumerate\u001b[39m([agent0, agent1]):\n\u001b[0;32m----> <a href='vscode-notebook-cell:/Users/Mathian/Documents/IA/RL/project/Puissance_Quatre_RL/project_starter.ipynb#X16sZmlsZQ%3D%3D?line=6'>7</a>\u001b[0m         action \u001b[39m=\u001b[39m agent\u001b[39m.\u001b[39;49mget_action(obs, epsilon\u001b[39m=\u001b[39;49m\u001b[39m0\u001b[39;49m)\n\u001b[1;32m      <a href='vscode-notebook-cell:/Users/Mathian/Documents/IA/RL/project/Puissance_Quatre_RL/project_starter.ipynb#X16sZmlsZQ%3D%3D?line=7'>8</a>\u001b[0m         env\u001b[39m.\u001b[39mstep(action)\n\u001b[1;32m      <a href='vscode-notebook-cell:/Users/Mathian/Documents/IA/RL/project/Puissance_Quatre_RL/project_starter.ipynb#X16sZmlsZQ%3D%3D?line=8'>9</a>\u001b[0m         \u001b[39mif\u001b[39;00m display:\n",
      "\u001b[1;32m/Users/Mathian/Documents/IA/RL/project/Puissance_Quatre_RL/project_starter.ipynb Cellule 17\u001b[0m in \u001b[0;36mMalynx.get_action\u001b[0;34m(self, obs_mask, epsilon)\u001b[0m\n\u001b[1;32m     <a href='vscode-notebook-cell:/Users/Mathian/Documents/IA/RL/project/Puissance_Quatre_RL/project_starter.ipynb#X16sZmlsZQ%3D%3D?line=10'>11</a>\u001b[0m \u001b[39mfor\u001b[39;00m i, legal \u001b[39min\u001b[39;00m \u001b[39menumerate\u001b[39m(obs_mask[\u001b[39m\"\u001b[39m\u001b[39maction_mask\u001b[39m\u001b[39m\"\u001b[39m]):\n\u001b[1;32m     <a href='vscode-notebook-cell:/Users/Mathian/Documents/IA/RL/project/Puissance_Quatre_RL/project_starter.ipynb#X16sZmlsZQ%3D%3D?line=11'>12</a>\u001b[0m     \u001b[39mif\u001b[39;00m legal:\n\u001b[0;32m---> <a href='vscode-notebook-cell:/Users/Mathian/Documents/IA/RL/project/Puissance_Quatre_RL/project_starter.ipynb#X16sZmlsZQ%3D%3D?line=12'>13</a>\u001b[0m         move_score \u001b[39m=\u001b[39m get_move_score(board, i)\n\u001b[1;32m     <a href='vscode-notebook-cell:/Users/Mathian/Documents/IA/RL/project/Puissance_Quatre_RL/project_starter.ipynb#X16sZmlsZQ%3D%3D?line=13'>14</a>\u001b[0m         \u001b[39mif\u001b[39;00m move_score \u001b[39m>\u001b[39m best_move_score:\n\u001b[1;32m     <a href='vscode-notebook-cell:/Users/Mathian/Documents/IA/RL/project/Puissance_Quatre_RL/project_starter.ipynb#X16sZmlsZQ%3D%3D?line=14'>15</a>\u001b[0m             best_move_score \u001b[39m=\u001b[39m move_score\n",
      "\u001b[1;32m/Users/Mathian/Documents/IA/RL/project/Puissance_Quatre_RL/project_starter.ipynb Cellule 17\u001b[0m in \u001b[0;36mget_move_score\u001b[0;34m(board, i)\u001b[0m\n\u001b[1;32m     <a href='vscode-notebook-cell:/Users/Mathian/Documents/IA/RL/project/Puissance_Quatre_RL/project_starter.ipynb#X16sZmlsZQ%3D%3D?line=28'>29</a>\u001b[0m \u001b[39mdef\u001b[39;00m \u001b[39mget_move_score\u001b[39m(board, i):\n\u001b[1;32m     <a href='vscode-notebook-cell:/Users/Mathian/Documents/IA/RL/project/Puissance_Quatre_RL/project_starter.ipynb#X16sZmlsZQ%3D%3D?line=29'>30</a>\u001b[0m     board_after_i \u001b[39m=\u001b[39m new_move(board, i)\n\u001b[0;32m---> <a href='vscode-notebook-cell:/Users/Mathian/Documents/IA/RL/project/Puissance_Quatre_RL/project_starter.ipynb#X16sZmlsZQ%3D%3D?line=30'>31</a>\u001b[0m     a \u001b[39m=\u001b[39m evaluate_position(board_after_i)\n\u001b[1;32m     <a href='vscode-notebook-cell:/Users/Mathian/Documents/IA/RL/project/Puissance_Quatre_RL/project_starter.ipynb#X16sZmlsZQ%3D%3D?line=31'>32</a>\u001b[0m     \u001b[39mreturn\u001b[39;00m a\n",
      "\u001b[1;32m/Users/Mathian/Documents/IA/RL/project/Puissance_Quatre_RL/project_starter.ipynb Cellule 17\u001b[0m in \u001b[0;36mevaluate_position\u001b[0;34m(board)\u001b[0m\n\u001b[1;32m     <a href='vscode-notebook-cell:/Users/Mathian/Documents/IA/RL/project/Puissance_Quatre_RL/project_starter.ipynb#X16sZmlsZQ%3D%3D?line=79'>80</a>\u001b[0m \u001b[39mfor\u001b[39;00m c \u001b[39min\u001b[39;00m \u001b[39mrange\u001b[39m(\u001b[39m7\u001b[39m):\n\u001b[1;32m     <a href='vscode-notebook-cell:/Users/Mathian/Documents/IA/RL/project/Puissance_Quatre_RL/project_starter.ipynb#X16sZmlsZQ%3D%3D?line=80'>81</a>\u001b[0m     \u001b[39mif\u001b[39;00m board[l,c] \u001b[39m==\u001b[39m \u001b[39m1\u001b[39m:\n\u001b[0;32m---> <a href='vscode-notebook-cell:/Users/Mathian/Documents/IA/RL/project/Puissance_Quatre_RL/project_starter.ipynb#X16sZmlsZQ%3D%3D?line=81'>82</a>\u001b[0m         score_1 \u001b[39m=\u001b[39m score_1 \u001b[39m+\u001b[39m get_pts_up(board, l, c) \u001b[39m+\u001b[39m get_pts_right(board, l, c) \u001b[39m+\u001b[39m get_pts_right_down(board, l, c) \u001b[39m+\u001b[39m get_pts_right_up(board, l, c)\n\u001b[1;32m     <a href='vscode-notebook-cell:/Users/Mathian/Documents/IA/RL/project/Puissance_Quatre_RL/project_starter.ipynb#X16sZmlsZQ%3D%3D?line=82'>83</a>\u001b[0m     \u001b[39mif\u001b[39;00m board[l,c] \u001b[39m==\u001b[39m \u001b[39m-\u001b[39m\u001b[39m1\u001b[39m:\n\u001b[1;32m     <a href='vscode-notebook-cell:/Users/Mathian/Documents/IA/RL/project/Puissance_Quatre_RL/project_starter.ipynb#X16sZmlsZQ%3D%3D?line=83'>84</a>\u001b[0m         score_2 \u001b[39m=\u001b[39m score_2 \u001b[39m+\u001b[39m get_pts_up(board, l, c) \u001b[39m+\u001b[39m get_pts_right(board, l, c) \u001b[39m+\u001b[39m get_pts_right_down(board, l, c) \u001b[39m+\u001b[39m get_pts_right_up(board, l, c)\n",
      "\u001b[1;32m/Users/Mathian/Documents/IA/RL/project/Puissance_Quatre_RL/project_starter.ipynb Cellule 17\u001b[0m in \u001b[0;36mget_pts_right\u001b[0;34m(board, l, c)\u001b[0m\n\u001b[1;32m     <a href='vscode-notebook-cell:/Users/Mathian/Documents/IA/RL/project/Puissance_Quatre_RL/project_starter.ipynb#X16sZmlsZQ%3D%3D?line=16'>17</a>\u001b[0m left_possibility \u001b[39m=\u001b[39m \u001b[39m0\u001b[39m\n\u001b[1;32m     <a href='vscode-notebook-cell:/Users/Mathian/Documents/IA/RL/project/Puissance_Quatre_RL/project_starter.ipynb#X16sZmlsZQ%3D%3D?line=17'>18</a>\u001b[0m lined_up \u001b[39m=\u001b[39m \u001b[39m1\u001b[39m\n\u001b[0;32m---> <a href='vscode-notebook-cell:/Users/Mathian/Documents/IA/RL/project/Puissance_Quatre_RL/project_starter.ipynb#X16sZmlsZQ%3D%3D?line=18'>19</a>\u001b[0m \u001b[39mwhile\u001b[39;00m board[l, c \u001b[39m+\u001b[39;49m lined_up] \u001b[39m==\u001b[39m board[l, c]:\n\u001b[1;32m     <a href='vscode-notebook-cell:/Users/Mathian/Documents/IA/RL/project/Puissance_Quatre_RL/project_starter.ipynb#X16sZmlsZQ%3D%3D?line=19'>20</a>\u001b[0m     lined_up \u001b[39m+\u001b[39m\u001b[39m=\u001b[39m \u001b[39m1\u001b[39m\n\u001b[1;32m     <a href='vscode-notebook-cell:/Users/Mathian/Documents/IA/RL/project/Puissance_Quatre_RL/project_starter.ipynb#X16sZmlsZQ%3D%3D?line=20'>21</a>\u001b[0m \u001b[39mif\u001b[39;00m lined_up \u001b[39m>\u001b[39m\u001b[39m=\u001b[39m \u001b[39m4\u001b[39m:\n",
      "\u001b[0;31mIndexError\u001b[0m: index 7 is out of bounds for axis 1 with size 7"
     ]
    }
   ],
   "source": [
    "plt.hist([play_game(env, agent0, agent1, display=False) for _ in range(100)])\n",
    "plt.show()"
   ]
  },
  {
   "cell_type": "markdown",
   "metadata": {},
   "source": [
    "# Emulating a Gym environment\n",
    "\n",
    "If we fix the opposite policy, the game from the point of view of the agent is equivalent to a Gym environment. The following class implements this simulation. Then any algorithm that would work in a gym environment with the same observations will work here. \n",
    "\n",
    "Note that we implemented the possibility to be the first or the second player. "
   ]
  },
  {
   "cell_type": "code",
   "execution_count": null,
   "metadata": {},
   "outputs": [],
   "source": [
    "class EnvAgainstPolicy: \n",
    "    def __init__(self, env, policy, first_player=True):\n",
    "        self.policy = policy\n",
    "        self.env = env\n",
    "        self.first_player = first_player\n",
    "        self.reset()\n",
    "\n",
    "    def step(self, action):\n",
    "        self.env.step(action)\n",
    "        obs, reward, terminated, _, _ = self.env.last()\n",
    "        if terminated: \n",
    "            self.last_step = obs, reward, True, False, {}\n",
    "        else: \n",
    "            action = self.policy.get_action(obs)\n",
    "            self.env.step(action)\n",
    "            obs, reward, terminated, _, _ = self.env.last()\n",
    "            self.last_step = obs, -reward, terminated, False, {}\n",
    "        return self.last_step\n",
    "\n",
    "    def reset(self):\n",
    "        self.env.reset()\n",
    "        if not(self.first_player): \n",
    "            obs, _, _, _, _ = self.env.last()\n",
    "            action = self.policy.get_action(obs)\n",
    "            self.env.step(action)\n",
    "\n",
    "        self.last_step = self.env.last()\n",
    "        return self.last_step\n",
    "\n",
    "    def last(self):\n",
    "        return self.last_step"
   ]
  },
  {
   "cell_type": "markdown",
   "metadata": {},
   "source": [
    "# Evaluating an agent against a fixed policy: \n",
    "\n",
    "Using the environment above, we can evaluate the agent against this fixed policy. "
   ]
  },
  {
   "cell_type": "code",
   "execution_count": null,
   "metadata": {},
   "outputs": [],
   "source": [
    "def eval_against_policy(env, agent, policy, N_episodes=10, first_player=True):\n",
    "    eval_env = EnvAgainstPolicy(env, policy, first_player=first_player)\n",
    "    results = []\n",
    "    for _ in range(N_episodes):\n",
    "        done = False\n",
    "        eval_env.reset()\n",
    "        obs, _, _, _, _ = eval_env.last()\n",
    "        while not done:\n",
    "            action = agent.get_action(obs, epsilon=0)\n",
    "            eval_env.step(action)\n",
    "            obs, reward, done, _, _ = eval_env.last()\n",
    "        results.append(reward)\n",
    "    return results"
   ]
  },
  {
   "cell_type": "markdown",
   "metadata": {},
   "source": [
    "We can see that if both players play randomly, there is a small but significant advantage to the first player. "
   ]
  },
  {
   "cell_type": "code",
   "execution_count": 24,
   "metadata": {},
   "outputs": [
    {
     "data": {
      "image/png": "[encoded data removed]",
      "text/plain": [
       "<Figure size 640x480 with 1 Axes>"
      ]
     },
     "metadata": {},
     "output_type": "display_data"
    },
    {
     "data": {
      "image/png": "[encoded data removed]",
      "text/plain": [
       "<Figure size 640x480 with 1 Axes>"
      ]
     },
     "metadata": {},
     "output_type": "display_data"
    }
   ],
   "source": [
    "plt.hist(eval_against_policy(env, RandomPlayer(), RandomPlayer(), N_episodes=1000, first_player=False))\n",
    "plt.show()\n",
    "plt.hist(eval_against_policy(env, RandomPlayer(), RandomPlayer(), N_episodes=1000, first_player=True))\n",
    "plt.show()"
   ]
  },
  {
   "cell_type": "markdown",
   "metadata": {},
   "source": [
    "# Your turn \n",
    "\n",
    "Try to build a decent agent. Be creative! You can try any idea that you have: the grade is not about performance of the agent, but more about illustrating phenomena happening in Reinforcement Learning for turn-based games. It's okay to 'help' the agent in any way, as long as it follows the ideas of RL (i.e., as long as there is some learning involved).\n",
    "\n",
    "\n"
   ]
  },
  {
   "cell_type": "markdown",
   "metadata": {},
   "source": []
  }
 ],
 "metadata": {
  "kernelspec": {
   "display_name": "Python 3",
   "language": "python",
   "name": "python3"
  },
  "language_info": {
   "codemirror_mode": {
    "name": "ipython",
    "version": 3
   },
   "file_extension": ".py",
   "mimetype": "text/x-python",
   "name": "python",
   "nbconvert_exporter": "python",
   "pygments_lexer": "ipython3",
   "version": "3.9.16"
  }
 },
 "nbformat": 4,
 "nbformat_minor": 5
}
