{
  "cells": [
    {
      "cell_type": "markdown",
      "metadata": {
        "id": "view-in-github",
        "colab_type": "text"
      },
      "source": [
        "<a href=\"https://colab.research.google.com/github/faustine-malatray/Puissance_Quatre_RL/blob/martin/project_starter.ipynb\" target=\"_parent\"><img src=\"https://colab.research.google.com/assets/colab-badge.svg\" alt=\"Open In Colab\"/></a>"
      ]
    },
    {
      "cell_type": "code",
      "source": [
        "!pip install pettingzoo"
      ],
      "metadata": {
        "id": "Gs7ToGPUZoyA"
      },
      "id": "Gs7ToGPUZoyA",
      "execution_count": null,
      "outputs": []
    },
    {
      "cell_type": "code",
      "execution_count": 3,
      "metadata": {
        "id": "ZDdU0FajZmPX"
      },
      "outputs": [],
      "source": [
        "from pettingzoo.classic import connect_four_v3"
      ],
      "id": "ZDdU0FajZmPX"
    },
    {
      "cell_type": "code",
      "execution_count": 4,
      "metadata": {
        "id": "9wzYeggNZmPb"
      },
      "outputs": [],
      "source": [
        "import numpy as np\n",
        "import matplotlib.pyplot as plt\n",
        "\n",
        "import os\n",
        "os.environ[\"SDL_VIDEODRIVER\"] = \"dummy\"\n",
        "from IPython.display import clear_output"
      ],
      "id": "9wzYeggNZmPb"
    },
    {
      "cell_type": "markdown",
      "metadata": {
        "id": "EOS4VOcHZmPc"
      },
      "source": [
        "# Using the PettingZoo environment\n",
        "\n",
        "This notebook provides smalls chunks of code to get you started with the Connect4 project. You do not have to use this code in you final file, but you can if you wish to. "
      ],
      "id": "EOS4VOcHZmPc"
    },
    {
      "cell_type": "code",
      "execution_count": 5,
      "metadata": {
        "id": "mnTT5tOQZmPf",
        "outputId": "9bed7fd2-aa46-4c34-d70d-acb8a6fe01ea",
        "colab": {
          "base_uri": "https://localhost:8080/"
        }
      },
      "outputs": [
        {
          "output_type": "stream",
          "name": "stdout",
          "text": [
            "(6, 7, 2)\n",
            "[[0 0 0 0 0 0 0]\n",
            " [0 0 0 0 0 0 0]\n",
            " [0 0 0 0 0 0 0]\n",
            " [0 0 0 0 0 0 0]\n",
            " [0 0 0 0 0 0 0]\n",
            " [0 0 0 0 0 0 0]]\n",
            "[[0 0 0 0 0 0 0]\n",
            " [0 0 0 0 0 0 0]\n",
            " [0 0 0 0 0 0 0]\n",
            " [0 0 0 0 0 0 0]\n",
            " [0 0 0 0 0 0 0]\n",
            " [0 0 0 0 0 0 0]]\n",
            "[1 1 1 1 1 1 1]\n"
          ]
        }
      ],
      "source": [
        "env = connect_four_v3.env(render_mode=\"rgb_array\")\n",
        "\n",
        "env.reset()\n",
        "\n",
        "# The main difference with the standard gym api is the way the environment is queried. The `step` method return `None`. To get the data on the environment, use the `last` method\n",
        "state, reward, terminated, truncated, info = env.last()\n",
        "\n",
        "# state is a dictionary with two keys: observation and action_mask\n",
        "print(\n",
        "    state[\"observation\"].shape\n",
        ")  # Observation is a numpy array with three coordinates, indicating the positions of the pieces of player 0 and 1 on the the board\n",
        "print(state[\"observation\"][:, :, 0])  # Where the pieces of player 0 are\n",
        "print(state[\"observation\"][:, :, 1])  # Where the pieces of player 1 are\n",
        "\n",
        "print(state[\"action_mask\"])  # an array showing whether the actions are legal or nots\n"
      ],
      "id": "mnTT5tOQZmPf"
    },
    {
      "cell_type": "code",
      "execution_count": 6,
      "metadata": {
        "id": "zG2KmDK7ZmPh",
        "outputId": "bba599b0-faf0-4d70-f4a9-56d12ef0ab95",
        "colab": {
          "base_uri": "https://localhost:8080/"
        }
      },
      "outputs": [
        {
          "output_type": "stream",
          "name": "stdout",
          "text": [
            "(6, 7, 2)\n",
            "[[0 0 0 0 0 0 0]\n",
            " [0 0 0 0 0 0 0]\n",
            " [0 0 0 0 0 0 0]\n",
            " [0 0 0 0 0 0 0]\n",
            " [0 0 0 0 0 0 0]\n",
            " [0 0 0 0 0 0 0]]\n",
            "[[0 0 0 0 0 0 0]\n",
            " [0 0 0 0 0 0 0]\n",
            " [0 0 0 0 0 0 0]\n",
            " [0 0 0 0 0 0 0]\n",
            " [0 0 0 0 0 0 0]\n",
            " [1 0 0 0 0 0 0]]\n",
            "[1 1 1 1 1 1 1]\n"
          ]
        }
      ],
      "source": [
        "env.reset()\n",
        "env.step(0)\n",
        "\n",
        "state, reward, terminated, truncated, info = env.last()\n",
        "\n",
        "print(\n",
        "    state[\"observation\"].shape\n",
        ") \n",
        "print(state[\"observation\"][:, :, 0])  \n",
        "print(state[\"observation\"][:, :, 1])  \n",
        "\n",
        "print(state[\"action_mask\"])\n"
      ],
      "id": "zG2KmDK7ZmPh"
    },
    {
      "cell_type": "markdown",
      "metadata": {
        "id": "F_dFQDnxZmPi"
      },
      "source": [
        "# Agents\n",
        "\n",
        "Here are some implementations of trivial agents that you should be able to beat ultimately. "
      ],
      "id": "F_dFQDnxZmPi"
    },
    {
      "cell_type": "code",
      "execution_count": 7,
      "metadata": {
        "id": "7ka6Q3FoZmPj"
      },
      "outputs": [],
      "source": [
        "class RandomPlayer:\n",
        "    def __init__(self, rng=None):\n",
        "        if rng is None:\n",
        "            self.rng = np.random.default_rng()\n",
        "        else:\n",
        "            self.rng = rng\n",
        "\n",
        "        self.name = \"Random Player\"\n",
        "\n",
        "    def get_action(self, obs_mask, epsilon=None):\n",
        "        return self.random_choice_with_mask(np.arange(7), obs_mask[\"action_mask\"])\n",
        "\n",
        "    def random_choice_with_mask(self, arr, mask):\n",
        "        masked_arr = np.ma.masked_array(arr, mask=1 - mask)\n",
        "        if masked_arr.count() == 0:\n",
        "            return None\n",
        "        return self.rng.choice(masked_arr.compressed())\n"
      ],
      "id": "7ka6Q3FoZmPj"
    },
    {
      "cell_type": "code",
      "execution_count": 8,
      "metadata": {
        "id": "XFLQohstZmPj"
      },
      "outputs": [],
      "source": [
        "class PlayLeftmostLegal:\n",
        "    def __init__(self):\n",
        "        self.name = \"Left Player\"\n",
        "\n",
        "    def get_action(self, obs_mask, epsilon=None):\n",
        "        for i, legal in enumerate(obs_mask[\"action_mask\"]):\n",
        "            if legal:\n",
        "                return i\n",
        "        return None\n"
      ],
      "id": "XFLQohstZmPj"
    },
    {
      "cell_type": "markdown",
      "metadata": {
        "id": "AcDMHFUPZmPk"
      },
      "source": [
        "# Running a game\n",
        "\n",
        "\n",
        "The following function runs a full game between the two agents. "
      ],
      "id": "AcDMHFUPZmPk"
    },
    {
      "cell_type": "code",
      "execution_count": 9,
      "metadata": {
        "id": "ImJBeIPpZmPl"
      },
      "outputs": [],
      "source": [
        "def play_game(env, agent0, agent1, display=False):\n",
        "    done = False\n",
        "    env.reset()\n",
        "    obs, _, _, _, _ = env.last()\n",
        "    while not done:\n",
        "        for i, agent in enumerate([agent0, agent1]):\n",
        "            action = agent.get_action(obs, epsilon=0)\n",
        "            env.step(action)\n",
        "            if display:\n",
        "                clear_output(wait=True)\n",
        "                plt.imshow(env.render())\n",
        "                plt.show()\n",
        "            obs, reward, terminated, _, _ = env.last()\n",
        "            done = terminated\n",
        "            if np.sum(obs[\"action_mask\"]) == 0:\n",
        "                if display: \n",
        "                    print('Draw')\n",
        "                return 0.5\n",
        "            if done:\n",
        "                if display:\n",
        "                    print(f\"Player {i}: {agent.name} won\")\n",
        "                    print(obs['observation'][:, :, 0]- obs['observation'][:, :, 1])\n",
        "                return i"
      ],
      "id": "ImJBeIPpZmPl"
    },
    {
      "cell_type": "code",
      "execution_count": 12,
      "metadata": {
        "id": "ShSnY-B2ZmPm",
        "outputId": "16abc8ee-49ab-44ee-85fd-4f9873d487b6",
        "colab": {
          "base_uri": "https://localhost:8080/",
          "height": 580
        }
      },
      "outputs": [
        {
          "output_type": "display_data",
          "data": {
            "text/plain": [
              "<Figure size 640x480 with 1 Axes>"
            ],
            "image/png": "[encoded data removed]"
          },
          "metadata": {}
        },
        {
          "output_type": "stream",
          "name": "stdout",
          "text": [
            "Player 0: Random Player won\n",
            "[[-1  0  0  0  0  0  0]\n",
            " [ 1  0  0  0  0  0  0]\n",
            " [-1  0  0  0  0  0  0]\n",
            " [-1  0  0  0  0  0  0]\n",
            " [-1 -1  0  0  0  0  0]\n",
            " [ 1  1  1  1  0  0  1]]\n"
          ]
        },
        {
          "output_type": "execute_result",
          "data": {
            "text/plain": [
              "0"
            ]
          },
          "metadata": {},
          "execution_count": 12
        }
      ],
      "source": [
        "agent0 = RandomPlayer()\n",
        "agent1 = PlayLeftmostLegal()\n",
        "\n",
        "play_game(env, agent0, agent1, display=True)"
      ],
      "id": "ShSnY-B2ZmPm"
    },
    {
      "cell_type": "code",
      "execution_count": 13,
      "metadata": {
        "id": "Uq6haOdGZmPn",
        "outputId": "ac5f9530-d891-4a7b-e388-674ca6b1b53d",
        "colab": {
          "base_uri": "https://localhost:8080/",
          "height": 430
        }
      },
      "outputs": [
        {
          "output_type": "display_data",
          "data": {
            "text/plain": [
              "<Figure size 640x480 with 1 Axes>"
            ],
            "image/png": "[encoded data removed]"
          },
          "metadata": {}
        }
      ],
      "source": [
        "plt.hist([play_game(env, agent0, agent1, display=False) for _ in range(100)])\n",
        "plt.show()"
      ],
      "id": "Uq6haOdGZmPn"
    },
    {
      "cell_type": "markdown",
      "metadata": {
        "id": "DtVRY_XbZmPo"
      },
      "source": [
        "# Emulating a Gym environment\n",
        "\n",
        "If we fix the opposite policy, the game from the point of view of the agent is equivalent to a Gym environment. The following class implements this simulation. Then any algorithm that would work in a gym environment with the same observations will work here. \n",
        "\n",
        "Note that we implemented the possibility to be the first or the second player. "
      ],
      "id": "DtVRY_XbZmPo"
    },
    {
      "cell_type": "code",
      "execution_count": null,
      "metadata": {
        "id": "9lQtsaNmZmPo"
      },
      "outputs": [],
      "source": [
        "class EnvAgainstPolicy: \n",
        "    def __init__(self, env, policy, first_player=True):\n",
        "        self.policy = policy\n",
        "        self.env = env\n",
        "        self.first_player = first_player\n",
        "        self.reset()\n",
        "\n",
        "    def step(self, action):\n",
        "        self.env.step(action)\n",
        "        obs, reward, terminated, _, _ = self.env.last()\n",
        "        if terminated: \n",
        "            self.last_step = obs, reward, True, False, {}\n",
        "        else: \n",
        "            action = self.policy.get_action(obs)\n",
        "            self.env.step(action)\n",
        "            obs, reward, terminated, _, _ = self.env.last()\n",
        "            self.last_step = obs, -reward, terminated, False, {}\n",
        "        return self.last_step\n",
        "\n",
        "    def reset(self):\n",
        "        self.env.reset()\n",
        "        if not(self.first_player): \n",
        "            obs, _, _, _, _ = self.env.last()\n",
        "            action = self.policy.get_action(obs)\n",
        "            self.env.step(action)\n",
        "\n",
        "        self.last_step = self.env.last()\n",
        "        return self.last_step\n",
        "\n",
        "    def last(self):\n",
        "        return self.last_step"
      ],
      "id": "9lQtsaNmZmPo"
    },
    {
      "cell_type": "markdown",
      "metadata": {
        "id": "xcyW0ZRkZmPp"
      },
      "source": [
        "# Evaluating an agent against a fixed policy: \n",
        "\n",
        "Using the environment above, we can evaluate the agent against this fixed policy. "
      ],
      "id": "xcyW0ZRkZmPp"
    },
    {
      "cell_type": "code",
      "execution_count": null,
      "metadata": {
        "id": "ggx_35aYZmPq"
      },
      "outputs": [],
      "source": [
        "def eval_against_policy(env, agent, policy, N_episodes=10, first_player=True):\n",
        "    eval_env = EnvAgainstPolicy(env, policy, first_player=first_player)\n",
        "    results = []\n",
        "    for _ in range(N_episodes):\n",
        "        done = False\n",
        "        eval_env.reset()\n",
        "        obs, _, _, _, _ = eval_env.last()\n",
        "        while not done:\n",
        "            action = agent.get_action(obs, epsilon=0)\n",
        "            eval_env.step(action)\n",
        "            obs, reward, done, _, _ = eval_env.last()\n",
        "        results.append(reward)\n",
        "    return results"
      ],
      "id": "ggx_35aYZmPq"
    },
    {
      "cell_type": "markdown",
      "metadata": {
        "id": "IzeiCHBrZmPq"
      },
      "source": [
        "We can see that if both players play randomly, there is a small but significant advantage to the first player. "
      ],
      "id": "IzeiCHBrZmPq"
    },
    {
      "cell_type": "code",
      "execution_count": null,
      "metadata": {
        "id": "1KaQAsF9ZmPr",
        "outputId": "0cf40ddb-6acd-40d5-c2df-cfd0732474b4"
      },
      "outputs": [
        {
          "data": {
            "image/png": "[encoded data removed]",
            "text/plain": [
              "<Figure size 640x480 with 1 Axes>"
            ]
          },
          "metadata": {},
          "output_type": "display_data"
        },
        {
          "data": {
            "image/png": "[encoded data removed]",
            "text/plain": [
              "<Figure size 640x480 with 1 Axes>"
            ]
          },
          "metadata": {},
          "output_type": "display_data"
        }
      ],
      "source": [
        "plt.hist(eval_against_policy(env, RandomPlayer(), RandomPlayer(), N_episodes=1000, first_player=False))\n",
        "plt.show()\n",
        "plt.hist(eval_against_policy(env, RandomPlayer(), RandomPlayer(), N_episodes=1000, first_player=True))\n",
        "plt.show()"
      ],
      "id": "1KaQAsF9ZmPr"
    },
    {
      "cell_type": "markdown",
      "metadata": {
        "id": "BlqGJOa9ZmPr"
      },
      "source": [
        "# Your turn \n",
        "\n",
        "Try to build a decent agent. Be creative! You can try any idea that you have: the grade is not about performance of the agent, but more about illustrating phenomena happening in Reinforcement Learning for turn-based games. It's okay to 'help' the agent in any way, as long as it follows the ideas of RL (i.e., as long as there is some learning involved).\n",
        "\n",
        "\n"
      ],
      "id": "BlqGJOa9ZmPr"
    },
    {
      "cell_type": "markdown",
      "metadata": {
        "id": "2li7cuqdZmPs"
      },
      "source": [],
      "id": "2li7cuqdZmPs"
    }
  ],
  "metadata": {
    "kernelspec": {
      "display_name": "Python 3",
      "language": "python",
      "name": "python3"
    },
    "language_info": {
      "codemirror_mode": {
        "name": "ipython",
        "version": 3
      },
      "file_extension": ".py",
      "mimetype": "text/x-python",
      "name": "python",
      "nbconvert_exporter": "python",
      "pygments_lexer": "ipython3",
      "version": "3.8.5"
    },
    "colab": {
      "provenance": [],
      "include_colab_link": true
    }
  },
  "nbformat": 4,
  "nbformat_minor": 5
}