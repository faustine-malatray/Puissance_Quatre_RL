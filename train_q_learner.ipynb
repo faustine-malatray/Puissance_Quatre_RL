{
 "cells": [
  {
   "cell_type": "code",
   "execution_count": 12,
   "metadata": {},
   "outputs": [],
   "source": [
    "from pettingzoo.classic import connect_four_v3\n",
    "import numpy as np\n",
    "import matplotlib.pyplot as plt\n",
    "import random\n",
    "import os\n",
    "os.environ[\"SDL_VIDEODRIVER\"] = \"dummy\"\n",
    "from IPython.display import clear_output"
   ]
  },
  {
   "cell_type": "markdown",
   "metadata": {},
   "source": [
    "# Using the PettingZoo environment\n",
    "\n",
    "This notebook provides smalls chunks of code to get you started with the Connect4 project. You do not have to use this code in you final file, but you can if you wish to. "
   ]
  },
  {
   "cell_type": "code",
   "execution_count": 2,
   "metadata": {},
   "outputs": [],
   "source": [
    "env = connect_four_v3.env(render_mode=\"rgb_array\")\n",
    "env.reset()"
   ]
  },
  {
   "cell_type": "markdown",
   "metadata": {},
   "source": [
    "# Agents\n",
    "\n",
    "Here are some implementations of trivial agents that you should be able to beat ultimately. "
   ]
  },
  {
   "cell_type": "code",
   "execution_count": 3,
   "metadata": {},
   "outputs": [],
   "source": [
    "from agents.play_leftmost import PlayLeftmostLegal\n",
    "from agents.random import RandomPlayer\n",
    "from agents.malynx_deep import MalynxDeep, MalynxWithoutBlunder\n",
    "from agents.q_learner import QLearningAgent\n",
    "from agents.human import HumanPlayer"
   ]
  },
  {
   "cell_type": "markdown",
   "metadata": {},
   "source": [
    "We import the pre-trained Q-table for Q-learning agent."
   ]
  },
  {
   "cell_type": "code",
   "execution_count": 4,
   "metadata": {},
   "outputs": [],
   "source": [
    "import pickle\n",
    "\n",
    "q_learning_agent = QLearningAgent()\n",
    "with open(\"training/agent_q_learner.pkl\", 'rb') as f:\n",
    "    q_learning_agent.q_table = pickle.load(f)"
   ]
  },
  {
   "cell_type": "code",
   "execution_count": 5,
   "metadata": {},
   "outputs": [],
   "source": [
    "random_agent = RandomPlayer()\n",
    "leftmost_agent = PlayLeftmostLegal()\n",
    "malynx_deep_agent = MalynxDeep()\n",
    "malynx_without_blunder_agent = MalynxWithoutBlunder()\n",
    "human_agent = HumanPlayer(name= \"Human\")"
   ]
  },
  {
   "cell_type": "markdown",
   "metadata": {},
   "source": [
    "# Let's train the QLearner agent!"
   ]
  },
  {
   "cell_type": "code",
   "execution_count": 6,
   "metadata": {},
   "outputs": [],
   "source": [
    "class EnvAgainstPolicy: \n",
    "    def __init__(self, env, policy, first_player=True):\n",
    "        self.policy = policy\n",
    "        self.env = env\n",
    "        self.first_player = first_player\n",
    "        self.reset()\n",
    "\n",
    "    def step(self, action):\n",
    "        self.env.step(action)\n",
    "        obs, reward, terminated, _, _ = self.env.last()\n",
    "        if terminated: \n",
    "            self.last_step = obs, reward, True, False, {}\n",
    "        else: \n",
    "            action = self.policy.get_action(obs)\n",
    "            self.env.step(action)\n",
    "            obs, reward, terminated, _, _ = self.env.last()\n",
    "            self.last_step = obs, -reward, terminated, False, {}\n",
    "        return self.last_step\n",
    "\n",
    "    def reset(self):\n",
    "        self.env.reset()\n",
    "        if not(self.first_player): \n",
    "            obs, _, _, _, _ = self.env.last()\n",
    "            action = self.policy.get_action(obs)\n",
    "            self.env.step(action)\n",
    "\n",
    "        self.last_step = self.env.last()\n",
    "        return self.last_step\n",
    "\n",
    "    def last(self):\n",
    "        return self.last_step"
   ]
  },
  {
   "cell_type": "code",
   "execution_count": 7,
   "metadata": {},
   "outputs": [],
   "source": [
    "def train_one_game(agent, opponent, first_player=True):\n",
    "    eval_env = EnvAgainstPolicy(env, opponent, first_player=first_player)\n",
    "    done = False\n",
    "    eval_env.reset()\n",
    "    obs, _, _, _, _ = eval_env.last()\n",
    "    while not done:\n",
    "        # We get the action from the agent\n",
    "        action = agent.get_action(obs, epsilon=0)\n",
    "        if action is None:\n",
    "            # The agent cannot play: draw?\n",
    "            return 0\n",
    "        # print(obs['action_mask'],list(np.where(obs['action_mask'] ==1)[0]), action)\n",
    "        # We move according to the action\n",
    "        eval_env.step(action)\n",
    "        next_obs, reward, done, _, _ = eval_env.last()\n",
    "        # We update the agent's Q-table\n",
    "        agent.update(obs, action, reward, done, next_obs)\n",
    "\n",
    "        if done and reward==1:\n",
    "            # The agent won\n",
    "            return 1\n",
    "        elif done and reward==-1:\n",
    "            # The agent lost\n",
    "            return -1\n",
    "        \n",
    "        obs = next_obs\n",
    "\n",
    "    # The game ended in a draw\n",
    "    return 0\n",
    "\n",
    "def train(agent, opponent, N_episodes=10, N_games=100, first_player=True, alternate_first_player=False):\n",
    "    # We print the evolution of the agent's statistics, and at the end we plot the evolution of the win rate\n",
    "    print(f\"{'Episode':<10} {'Win':<10} {'Loss':<10} {'Draw':<10}\")\n",
    "    win_rate = []\n",
    "    for i in range(N_episodes):\n",
    "        win = 0\n",
    "        loss = 0\n",
    "        draw = 0\n",
    "        for _ in range(N_games):\n",
    "            result = train_one_game(agent, opponent, first_player=first_player)\n",
    "            if result == 1:\n",
    "                win += 1\n",
    "            elif result == -1:\n",
    "                loss += 1\n",
    "            else:\n",
    "                draw += 1\n",
    "        print(f\"{i:<10} {win:<10} {loss:<10} {draw:<10}\")\n",
    "        win_rate.append(win / N_games)\n",
    "\n",
    "        if alternate_first_player:\n",
    "            first_player = not first_player\n",
    "\n",
    "    plt.plot(win_rate)\n",
    "    #calculate equation for trendline\n",
    "    x = np.linspace(0, N_episodes-1, N_episodes)\n",
    "    z = np.polyfit(x, win_rate, 1)\n",
    "    p = np.poly1d(z)\n",
    "    #add trendline to plot\n",
    "    plt.plot(x, p(x))\n",
    "    #legends\n",
    "    plt.xlabel(\"Episode\")\n",
    "    plt.ylabel(\"Win rate\")\n",
    "    plt.title(\"Evolution of the win rate for {} against {}\".format(agent.name, opponent.name))\n",
    "    plt.show()\n",
    "    "
   ]
  },
  {
   "cell_type": "code",
   "execution_count": 8,
   "metadata": {},
   "outputs": [],
   "source": [
    "import pickle\n",
    "\n",
    "def save_agent(agent, name):\n",
    "    # Save the agent's Q-table\n",
    "    # We try to optimize the size of the file by removing the useless entries\n",
    "    q_table = {}\n",
    "    for key, value in agent.q_table.items():\n",
    "        if value != 0:\n",
    "            q_table[key] = value\n",
    "    \n",
    "    with open(name, 'wb') as f:\n",
    "        pickle.dump(q_table, f)\n",
    "\n",
    "def load_agent(name):\n",
    "    # Load the agent's Q-table\n",
    "    agent = QLearningAgent()\n",
    "    with open(name, 'rb') as f:\n",
    "        agent.q_table = pickle.load(f)\n",
    "    return agent"
   ]
  },
  {
   "cell_type": "code",
   "execution_count": 14,
   "metadata": {},
   "outputs": [],
   "source": [
    "def train_against_opponent(set_of_opponents,nb_confrontations):\n",
    "    for i in range(nb_confrontations):\n",
    "        opponent = random.choice(list(set_of_opponents))\n",
    "        print(\"Training against {}\".format(opponent.name))\n",
    "        train(q_learning_agent, opponent, N_episodes=100, N_games=200, first_player=True)\n"
   ]
  },
  {
   "cell_type": "code",
   "execution_count": 15,
   "metadata": {},
   "outputs": [],
   "source": [
    "set_agents = {random_agent,leftmost_agent,malynx_deep_agent,malynx_without_blunder_agent}\n"
   ]
  },
  {
   "cell_type": "code",
   "execution_count": null,
   "metadata": {},
   "outputs": [
    {
     "name": "stdout",
     "output_type": "stream",
     "text": [
      "Training against Left Player\n",
      "Episode    Win        Loss       Draw      \n",
      "0          200        0          0         \n",
      "1          200        0          0         \n",
      "2          200        0          0         \n",
      "3          200        0          0         \n",
      "4          200        0          0         \n",
      "5          200        0          0         \n",
      "6          200        0          0         \n",
      "7          200        0          0         \n",
      "8          200        0          0         \n",
      "9          200        0          0         \n",
      "10         200        0          0         \n",
      "11         200        0          0         \n",
      "12         200        0          0         \n",
      "13         200        0          0         \n",
      "14         200        0          0         \n",
      "15         200        0          0         \n",
      "16         200        0          0         \n",
      "17         200        0          0         \n",
      "18         200        0          0         \n",
      "19         200        0          0         \n",
      "20         200        0          0         \n",
      "21         200        0          0         \n",
      "22         200        0          0         \n",
      "23         200        0          0         \n",
      "24         200        0          0         \n",
      "25         200        0          0         \n",
      "26         200        0          0         \n",
      "27         200        0          0         \n",
      "28         200        0          0         \n",
      "29         200        0          0         \n",
      "30         200        0          0         \n",
      "31         200        0          0         \n",
      "32         200        0          0         \n",
      "33         200        0          0         \n",
      "34         200        0          0         \n",
      "35         200        0          0         \n",
      "36         200        0          0         \n",
      "37         200        0          0         \n",
      "38         200        0          0         \n",
      "39         200        0          0         \n",
      "40         200        0          0         \n",
      "41         200        0          0         \n",
      "42         200        0          0         \n",
      "43         200        0          0         \n",
      "44         200        0          0         \n",
      "45         200        0          0         \n",
      "46         200        0          0         \n",
      "47         200        0          0         \n",
      "48         200        0          0         \n",
      "49         200        0          0         \n",
      "50         200        0          0         \n",
      "51         200        0          0         \n",
      "52         200        0          0         \n",
      "53         200        0          0         \n",
      "54         200        0          0         \n",
      "55         200        0          0         \n",
      "56         200        0          0         \n",
      "57         200        0          0         \n",
      "58         200        0          0         \n",
      "59         200        0          0         \n",
      "60         200        0          0         \n",
      "61         200        0          0         \n",
      "62         200        0          0         \n",
      "63         200        0          0         \n",
      "64         200        0          0         \n",
      "65         200        0          0         \n",
      "66         200        0          0         \n",
      "67         200        0          0         \n",
      "68         200        0          0         \n",
      "69         200        0          0         \n",
      "70         200        0          0         \n",
      "71         200        0          0         \n",
      "72         200        0          0         \n",
      "73         200        0          0         \n",
      "74         200        0          0         \n",
      "75         200        0          0         \n",
      "76         200        0          0         \n",
      "77         200        0          0         \n",
      "78         200        0          0         \n",
      "79         200        0          0         \n",
      "80         200        0          0         \n",
      "81         200        0          0         \n",
      "82         200        0          0         \n",
      "83         200        0          0         \n",
      "84         200        0          0         \n",
      "85         200        0          0         \n",
      "86         200        0          0         \n",
      "87         200        0          0         \n",
      "88         200        0          0         \n",
      "89         200        0          0         \n",
      "90         200        0          0         \n",
      "91         200        0          0         \n",
      "92         200        0          0         \n",
      "93         200        0          0         \n",
      "94         200        0          0         \n",
      "95         200        0          0         \n",
      "96         200        0          0         \n",
      "97         200        0          0         \n",
      "98         200        0          0         \n",
      "99         200        0          0         \n"
     ]
    },
    {
     "data": {
      "image/png": "[encoded data removed]",
      "text/plain": [
       "<Figure size 432x288 with 1 Axes>"
      ]
     },
     "metadata": {
      "needs_background": "light"
     },
     "output_type": "display_data"
    },
    {
     "name": "stdout",
     "output_type": "stream",
     "text": [
      "Training against Malynx Avoiding Blunder\n",
      "Episode    Win        Loss       Draw      \n",
      "0          0          200        0         \n",
      "1          0          200        0         \n",
      "2          0          200        0         \n",
      "3          0          200        0         \n",
      "4          0          199        1         \n",
      "5          0          200        0         \n",
      "6          1          199        0         \n",
      "7          0          200        0         \n",
      "8          2          198        0         \n",
      "9          1          199        0         \n",
      "10         2          198        0         \n",
      "11         3          197        0         \n",
      "12         76         123        1         \n",
      "13         198        2          0         \n",
      "14         200        0          0         \n",
      "15         200        0          0         \n",
      "16         200        0          0         \n",
      "17         200        0          0         \n",
      "18         200        0          0         \n",
      "19         200        0          0         \n",
      "20         200        0          0         \n",
      "21         200        0          0         \n",
      "22         200        0          0         \n",
      "23         200        0          0         \n",
      "24         200        0          0         \n",
      "25         200        0          0         \n",
      "26         200        0          0         \n",
      "27         200        0          0         \n",
      "28         200        0          0         \n",
      "29         200        0          0         \n",
      "30         200        0          0         \n",
      "31         200        0          0         \n",
      "32         200        0          0         \n",
      "33         200        0          0         \n",
      "34         200        0          0         \n",
      "35         200        0          0         \n",
      "36         200        0          0         \n",
      "37         200        0          0         \n",
      "38         200        0          0         \n",
      "39         200        0          0         \n",
      "40         200        0          0         \n",
      "41         200        0          0         \n",
      "42         200        0          0         \n",
      "43         200        0          0         \n",
      "44         200        0          0         \n",
      "45         200        0          0         \n"
     ]
    }
   ],
   "source": [
    "train_against_opponent(set_agents,10)"
   ]
  },
  {
   "cell_type": "code",
   "execution_count": 20,
   "metadata": {},
   "outputs": [
    {
     "name": "stdout",
     "output_type": "stream",
     "text": [
      "Training against Malynx Deep\n",
      "Episode    Win        Loss       Draw      \n",
      "0          0          100        0         \n",
      "1          0          100        0         \n"
     ]
    },
    {
     "ename": "KeyboardInterrupt",
     "evalue": "",
     "output_type": "error",
     "traceback": [
      "\u001b[1;31m---------------------------------------------------------------------------\u001b[0m",
      "\u001b[1;31mKeyboardInterrupt\u001b[0m                         Traceback (most recent call last)",
      "\u001b[1;32m<ipython-input-20-40ae2bc82816>\u001b[0m in \u001b[0;36m<module>\u001b[1;34m\u001b[0m\n\u001b[1;32m----> 1\u001b[1;33m \u001b[0mtrain_against_opponent\u001b[0m\u001b[1;33m(\u001b[0m\u001b[0mmalynx_deep_agent\u001b[0m\u001b[1;33m)\u001b[0m\u001b[1;33m\u001b[0m\u001b[1;33m\u001b[0m\u001b[0m\n\u001b[0m",
      "\u001b[1;32m<ipython-input-18-f9315d00d496>\u001b[0m in \u001b[0;36mtrain_against_opponent\u001b[1;34m(opponent)\u001b[0m\n\u001b[0;32m      1\u001b[0m \u001b[1;32mdef\u001b[0m \u001b[0mtrain_against_opponent\u001b[0m\u001b[1;33m(\u001b[0m\u001b[0mopponent\u001b[0m\u001b[1;33m)\u001b[0m\u001b[1;33m:\u001b[0m\u001b[1;33m\u001b[0m\u001b[1;33m\u001b[0m\u001b[0m\n\u001b[0;32m      2\u001b[0m     \u001b[0mprint\u001b[0m\u001b[1;33m(\u001b[0m\u001b[1;34m\"Training against {}\"\u001b[0m\u001b[1;33m.\u001b[0m\u001b[0mformat\u001b[0m\u001b[1;33m(\u001b[0m\u001b[0mopponent\u001b[0m\u001b[1;33m.\u001b[0m\u001b[0mname\u001b[0m\u001b[1;33m)\u001b[0m\u001b[1;33m)\u001b[0m\u001b[1;33m\u001b[0m\u001b[1;33m\u001b[0m\u001b[0m\n\u001b[1;32m----> 3\u001b[1;33m     \u001b[0mtrain\u001b[0m\u001b[1;33m(\u001b[0m\u001b[0mq_learning_agent\u001b[0m\u001b[1;33m,\u001b[0m \u001b[0mopponent\u001b[0m\u001b[1;33m,\u001b[0m \u001b[0mN_episodes\u001b[0m\u001b[1;33m=\u001b[0m\u001b[1;36m100\u001b[0m\u001b[1;33m,\u001b[0m \u001b[0mN_games\u001b[0m\u001b[1;33m=\u001b[0m\u001b[1;36m100\u001b[0m\u001b[1;33m,\u001b[0m \u001b[0mfirst_player\u001b[0m\u001b[1;33m=\u001b[0m\u001b[1;32mTrue\u001b[0m\u001b[1;33m)\u001b[0m\u001b[1;33m\u001b[0m\u001b[1;33m\u001b[0m\u001b[0m\n\u001b[0m\u001b[0;32m      4\u001b[0m     \u001b[0mtrain\u001b[0m\u001b[1;33m(\u001b[0m\u001b[0mq_learning_agent\u001b[0m\u001b[1;33m,\u001b[0m \u001b[0mopponent\u001b[0m\u001b[1;33m,\u001b[0m \u001b[0mN_episodes\u001b[0m\u001b[1;33m=\u001b[0m\u001b[1;36m250\u001b[0m\u001b[1;33m,\u001b[0m \u001b[0mN_games\u001b[0m\u001b[1;33m=\u001b[0m\u001b[1;36m100\u001b[0m\u001b[1;33m,\u001b[0m \u001b[0mfirst_player\u001b[0m\u001b[1;33m=\u001b[0m\u001b[1;32mFalse\u001b[0m\u001b[1;33m)\u001b[0m\u001b[1;33m\u001b[0m\u001b[1;33m\u001b[0m\u001b[0m\n\u001b[0;32m      5\u001b[0m     \u001b[0mtrain\u001b[0m\u001b[1;33m(\u001b[0m\u001b[0mq_learning_agent\u001b[0m\u001b[1;33m,\u001b[0m \u001b[0mq_learning_agent\u001b[0m\u001b[1;33m,\u001b[0m \u001b[0mN_episodes\u001b[0m\u001b[1;33m=\u001b[0m\u001b[1;36m100\u001b[0m\u001b[1;33m,\u001b[0m \u001b[0mN_games\u001b[0m\u001b[1;33m=\u001b[0m\u001b[1;36m100\u001b[0m\u001b[1;33m,\u001b[0m \u001b[0mfirst_player\u001b[0m\u001b[1;33m=\u001b[0m\u001b[1;32mFalse\u001b[0m\u001b[1;33m)\u001b[0m\u001b[1;33m\u001b[0m\u001b[1;33m\u001b[0m\u001b[0m\n",
      "\u001b[1;32m<ipython-input-16-448b061a3b10>\u001b[0m in \u001b[0;36mtrain\u001b[1;34m(agent, opponent, N_episodes, N_games, first_player, alternate_first_player)\u001b[0m\n\u001b[0;32m     38\u001b[0m         \u001b[0mdraw\u001b[0m \u001b[1;33m=\u001b[0m \u001b[1;36m0\u001b[0m\u001b[1;33m\u001b[0m\u001b[1;33m\u001b[0m\u001b[0m\n\u001b[0;32m     39\u001b[0m         \u001b[1;32mfor\u001b[0m \u001b[0m_\u001b[0m \u001b[1;32min\u001b[0m \u001b[0mrange\u001b[0m\u001b[1;33m(\u001b[0m\u001b[0mN_games\u001b[0m\u001b[1;33m)\u001b[0m\u001b[1;33m:\u001b[0m\u001b[1;33m\u001b[0m\u001b[1;33m\u001b[0m\u001b[0m\n\u001b[1;32m---> 40\u001b[1;33m             \u001b[0mresult\u001b[0m \u001b[1;33m=\u001b[0m \u001b[0mtrain_one_game\u001b[0m\u001b[1;33m(\u001b[0m\u001b[0magent\u001b[0m\u001b[1;33m,\u001b[0m \u001b[0mopponent\u001b[0m\u001b[1;33m,\u001b[0m \u001b[0mfirst_player\u001b[0m\u001b[1;33m=\u001b[0m\u001b[0mfirst_player\u001b[0m\u001b[1;33m)\u001b[0m\u001b[1;33m\u001b[0m\u001b[1;33m\u001b[0m\u001b[0m\n\u001b[0m\u001b[0;32m     41\u001b[0m             \u001b[1;32mif\u001b[0m \u001b[0mresult\u001b[0m \u001b[1;33m==\u001b[0m \u001b[1;36m1\u001b[0m\u001b[1;33m:\u001b[0m\u001b[1;33m\u001b[0m\u001b[1;33m\u001b[0m\u001b[0m\n\u001b[0;32m     42\u001b[0m                 \u001b[0mwin\u001b[0m \u001b[1;33m+=\u001b[0m \u001b[1;36m1\u001b[0m\u001b[1;33m\u001b[0m\u001b[1;33m\u001b[0m\u001b[0m\n",
      "\u001b[1;32m<ipython-input-16-448b061a3b10>\u001b[0m in \u001b[0;36mtrain_one_game\u001b[1;34m(agent, opponent, first_player)\u001b[0m\n\u001b[0;32m     12\u001b[0m         \u001b[1;31m# print(obs['action_mask'],list(np.where(obs['action_mask'] ==1)[0]), action)\u001b[0m\u001b[1;33m\u001b[0m\u001b[1;33m\u001b[0m\u001b[1;33m\u001b[0m\u001b[0m\n\u001b[0;32m     13\u001b[0m         \u001b[1;31m# We move according to the action\u001b[0m\u001b[1;33m\u001b[0m\u001b[1;33m\u001b[0m\u001b[1;33m\u001b[0m\u001b[0m\n\u001b[1;32m---> 14\u001b[1;33m         \u001b[0meval_env\u001b[0m\u001b[1;33m.\u001b[0m\u001b[0mstep\u001b[0m\u001b[1;33m(\u001b[0m\u001b[0maction\u001b[0m\u001b[1;33m)\u001b[0m\u001b[1;33m\u001b[0m\u001b[1;33m\u001b[0m\u001b[0m\n\u001b[0m\u001b[0;32m     15\u001b[0m         \u001b[0mnext_obs\u001b[0m\u001b[1;33m,\u001b[0m \u001b[0mreward\u001b[0m\u001b[1;33m,\u001b[0m \u001b[0mdone\u001b[0m\u001b[1;33m,\u001b[0m \u001b[0m_\u001b[0m\u001b[1;33m,\u001b[0m \u001b[0m_\u001b[0m \u001b[1;33m=\u001b[0m \u001b[0meval_env\u001b[0m\u001b[1;33m.\u001b[0m\u001b[0mlast\u001b[0m\u001b[1;33m(\u001b[0m\u001b[1;33m)\u001b[0m\u001b[1;33m\u001b[0m\u001b[1;33m\u001b[0m\u001b[0m\n\u001b[0;32m     16\u001b[0m         \u001b[1;31m# We update the agent's Q-table\u001b[0m\u001b[1;33m\u001b[0m\u001b[1;33m\u001b[0m\u001b[1;33m\u001b[0m\u001b[0m\n",
      "\u001b[1;32m<ipython-input-6-879eb7b0f2f1>\u001b[0m in \u001b[0;36mstep\u001b[1;34m(self, action)\u001b[0m\n\u001b[0;32m     12\u001b[0m             \u001b[0mself\u001b[0m\u001b[1;33m.\u001b[0m\u001b[0mlast_step\u001b[0m \u001b[1;33m=\u001b[0m \u001b[0mobs\u001b[0m\u001b[1;33m,\u001b[0m \u001b[0mreward\u001b[0m\u001b[1;33m,\u001b[0m \u001b[1;32mTrue\u001b[0m\u001b[1;33m,\u001b[0m \u001b[1;32mFalse\u001b[0m\u001b[1;33m,\u001b[0m \u001b[1;33m{\u001b[0m\u001b[1;33m}\u001b[0m\u001b[1;33m\u001b[0m\u001b[1;33m\u001b[0m\u001b[0m\n\u001b[0;32m     13\u001b[0m         \u001b[1;32melse\u001b[0m\u001b[1;33m:\u001b[0m\u001b[1;33m\u001b[0m\u001b[1;33m\u001b[0m\u001b[0m\n\u001b[1;32m---> 14\u001b[1;33m             \u001b[0maction\u001b[0m \u001b[1;33m=\u001b[0m \u001b[0mself\u001b[0m\u001b[1;33m.\u001b[0m\u001b[0mpolicy\u001b[0m\u001b[1;33m.\u001b[0m\u001b[0mget_action\u001b[0m\u001b[1;33m(\u001b[0m\u001b[0mobs\u001b[0m\u001b[1;33m)\u001b[0m\u001b[1;33m\u001b[0m\u001b[1;33m\u001b[0m\u001b[0m\n\u001b[0m\u001b[0;32m     15\u001b[0m             \u001b[0mself\u001b[0m\u001b[1;33m.\u001b[0m\u001b[0menv\u001b[0m\u001b[1;33m.\u001b[0m\u001b[0mstep\u001b[0m\u001b[1;33m(\u001b[0m\u001b[0maction\u001b[0m\u001b[1;33m)\u001b[0m\u001b[1;33m\u001b[0m\u001b[1;33m\u001b[0m\u001b[0m\n\u001b[0;32m     16\u001b[0m             \u001b[0mobs\u001b[0m\u001b[1;33m,\u001b[0m \u001b[0mreward\u001b[0m\u001b[1;33m,\u001b[0m \u001b[0mterminated\u001b[0m\u001b[1;33m,\u001b[0m \u001b[0m_\u001b[0m\u001b[1;33m,\u001b[0m \u001b[0m_\u001b[0m \u001b[1;33m=\u001b[0m \u001b[0mself\u001b[0m\u001b[1;33m.\u001b[0m\u001b[0menv\u001b[0m\u001b[1;33m.\u001b[0m\u001b[0mlast\u001b[0m\u001b[1;33m(\u001b[0m\u001b[1;33m)\u001b[0m\u001b[1;33m\u001b[0m\u001b[1;33m\u001b[0m\u001b[0m\n",
      "\u001b[1;32mc:\\Users\\faust\\Documents\\CS\\3A\\Module 3\\RL\\Projet\\Puissance_Quatre_RL\\agents\\malynx_deep.py\u001b[0m in \u001b[0;36mget_action\u001b[1;34m(self, obs_mask, epsilon)\u001b[0m\n\u001b[0;32m    184\u001b[0m         \u001b[1;32mfor\u001b[0m \u001b[0mi\u001b[0m\u001b[1;33m,\u001b[0m \u001b[0mlegal\u001b[0m \u001b[1;32min\u001b[0m \u001b[0menumerate\u001b[0m\u001b[1;33m(\u001b[0m\u001b[0mobs_mask\u001b[0m\u001b[1;33m[\u001b[0m\u001b[1;34m\"action_mask\"\u001b[0m\u001b[1;33m]\u001b[0m\u001b[1;33m)\u001b[0m\u001b[1;33m:\u001b[0m\u001b[1;33m\u001b[0m\u001b[1;33m\u001b[0m\u001b[0m\n\u001b[0;32m    185\u001b[0m             \u001b[1;32mif\u001b[0m \u001b[0mlegal\u001b[0m\u001b[1;33m:\u001b[0m\u001b[1;33m\u001b[0m\u001b[1;33m\u001b[0m\u001b[0m\n\u001b[1;32m--> 186\u001b[1;33m                 \u001b[0mmove_score\u001b[0m \u001b[1;33m=\u001b[0m \u001b[0mget_move_score_depth_2\u001b[0m\u001b[1;33m(\u001b[0m\u001b[0mboard\u001b[0m\u001b[1;33m,\u001b[0m \u001b[0mi\u001b[0m\u001b[1;33m,\u001b[0m \u001b[0mself\u001b[0m\u001b[1;33m.\u001b[0m\u001b[0mrandom_percentage\u001b[0m\u001b[1;33m)\u001b[0m\u001b[1;33m\u001b[0m\u001b[1;33m\u001b[0m\u001b[0m\n\u001b[0m\u001b[0;32m    187\u001b[0m                 \u001b[1;32mif\u001b[0m \u001b[0mmove_score\u001b[0m \u001b[1;33m==\u001b[0m \u001b[0mbest_move_score\u001b[0m \u001b[1;32mand\u001b[0m \u001b[0mrd\u001b[0m\u001b[1;33m.\u001b[0m\u001b[0mrandom\u001b[0m\u001b[1;33m(\u001b[0m\u001b[1;33m)\u001b[0m \u001b[1;33m<\u001b[0m \u001b[1;36m0.5\u001b[0m\u001b[1;33m:\u001b[0m\u001b[1;33m\u001b[0m\u001b[1;33m\u001b[0m\u001b[0m\n\u001b[0;32m    188\u001b[0m                     \u001b[0mbest_move\u001b[0m \u001b[1;33m=\u001b[0m \u001b[0mi\u001b[0m\u001b[1;33m\u001b[0m\u001b[1;33m\u001b[0m\u001b[0m\n",
      "\u001b[1;32mc:\\Users\\faust\\Documents\\CS\\3A\\Module 3\\RL\\Projet\\Puissance_Quatre_RL\\agents\\malynx_deep.py\u001b[0m in \u001b[0;36mget_move_score_depth_2\u001b[1;34m(board, i, random_percentage)\u001b[0m\n\u001b[0;32m    150\u001b[0m     \u001b[1;32mif\u001b[0m \u001b[0mrd\u001b[0m\u001b[1;33m.\u001b[0m\u001b[0mrandom\u001b[0m\u001b[1;33m(\u001b[0m\u001b[1;33m)\u001b[0m \u001b[1;33m<\u001b[0m \u001b[0mrandom_percentage\u001b[0m\u001b[1;33m:\u001b[0m\u001b[1;33m\u001b[0m\u001b[1;33m\u001b[0m\u001b[0m\n\u001b[0;32m    151\u001b[0m         \u001b[1;32mreturn\u001b[0m \u001b[1;33m-\u001b[0m \u001b[1;36m10\u001b[0m\u001b[1;33m\u001b[0m\u001b[1;33m\u001b[0m\u001b[0m\n\u001b[1;32m--> 152\u001b[1;33m     \u001b[1;32mreturn\u001b[0m \u001b[0mget_move_score\u001b[0m\u001b[1;33m(\u001b[0m\u001b[0mboard\u001b[0m\u001b[1;33m,\u001b[0m \u001b[0mi\u001b[0m\u001b[1;33m)\u001b[0m \u001b[1;33m-\u001b[0m \u001b[0mbest_score_for_opponent\u001b[0m\u001b[1;33m(\u001b[0m\u001b[0mboard\u001b[0m\u001b[1;33m,\u001b[0m \u001b[0mi\u001b[0m\u001b[1;33m)\u001b[0m\u001b[1;33m/\u001b[0m\u001b[1;36m5\u001b[0m\u001b[1;33m\u001b[0m\u001b[1;33m\u001b[0m\u001b[0m\n\u001b[0m\u001b[0;32m    153\u001b[0m \u001b[1;33m\u001b[0m\u001b[0m\n\u001b[0;32m    154\u001b[0m \u001b[1;32mclass\u001b[0m \u001b[0mMalynxWithoutBlunder\u001b[0m\u001b[1;33m:\u001b[0m\u001b[1;33m\u001b[0m\u001b[1;33m\u001b[0m\u001b[0m\n",
      "\u001b[1;32mc:\\Users\\faust\\Documents\\CS\\3A\\Module 3\\RL\\Projet\\Puissance_Quatre_RL\\agents\\malynx_deep.py\u001b[0m in \u001b[0;36mbest_score_for_opponent\u001b[1;34m(board, i)\u001b[0m\n\u001b[0;32m    142\u001b[0m     \u001b[1;32mfor\u001b[0m \u001b[0mi\u001b[0m \u001b[1;32min\u001b[0m \u001b[0mrange\u001b[0m\u001b[1;33m(\u001b[0m\u001b[1;36m7\u001b[0m\u001b[1;33m)\u001b[0m\u001b[1;33m:\u001b[0m\u001b[1;33m\u001b[0m\u001b[1;33m\u001b[0m\u001b[0m\n\u001b[0;32m    143\u001b[0m         \u001b[1;32mif\u001b[0m \u001b[0mboard_after_i_for_opponent\u001b[0m\u001b[1;33m[\u001b[0m\u001b[1;36m0\u001b[0m\u001b[1;33m,\u001b[0m\u001b[0mi\u001b[0m\u001b[1;33m]\u001b[0m \u001b[1;33m==\u001b[0m \u001b[1;36m0\u001b[0m\u001b[1;33m:\u001b[0m\u001b[1;33m\u001b[0m\u001b[1;33m\u001b[0m\u001b[0m\n\u001b[1;32m--> 144\u001b[1;33m             \u001b[0mmove_score\u001b[0m \u001b[1;33m=\u001b[0m \u001b[0mget_move_score\u001b[0m\u001b[1;33m(\u001b[0m\u001b[0mboard_after_i_for_opponent\u001b[0m\u001b[1;33m,\u001b[0m \u001b[0mi\u001b[0m\u001b[1;33m)\u001b[0m\u001b[1;33m\u001b[0m\u001b[1;33m\u001b[0m\u001b[0m\n\u001b[0m\u001b[0;32m    145\u001b[0m             \u001b[1;32mif\u001b[0m \u001b[0mmove_score\u001b[0m \u001b[1;33m>\u001b[0m \u001b[0mbest_score\u001b[0m\u001b[1;33m:\u001b[0m\u001b[1;33m\u001b[0m\u001b[1;33m\u001b[0m\u001b[0m\n\u001b[0;32m    146\u001b[0m                 \u001b[0mbest_score\u001b[0m \u001b[1;33m=\u001b[0m \u001b[0mmove_score\u001b[0m\u001b[1;33m\u001b[0m\u001b[1;33m\u001b[0m\u001b[0m\n",
      "\u001b[1;32mc:\\Users\\faust\\Documents\\CS\\3A\\Module 3\\RL\\Projet\\Puissance_Quatre_RL\\agents\\malynx_deep.py\u001b[0m in \u001b[0;36mget_move_score\u001b[1;34m(board, i)\u001b[0m\n\u001b[0;32m    116\u001b[0m \u001b[1;33m\u001b[0m\u001b[0m\n\u001b[0;32m    117\u001b[0m \u001b[1;32mdef\u001b[0m \u001b[0mget_move_score\u001b[0m\u001b[1;33m(\u001b[0m\u001b[0mboard\u001b[0m\u001b[1;33m,\u001b[0m \u001b[0mi\u001b[0m\u001b[1;33m)\u001b[0m\u001b[1;33m:\u001b[0m\u001b[1;33m\u001b[0m\u001b[1;33m\u001b[0m\u001b[0m\n\u001b[1;32m--> 118\u001b[1;33m     \u001b[0mboard_after_i\u001b[0m \u001b[1;33m=\u001b[0m \u001b[0mnew_move\u001b[0m\u001b[1;33m(\u001b[0m\u001b[0mboard\u001b[0m\u001b[1;33m,\u001b[0m \u001b[0mi\u001b[0m\u001b[1;33m)\u001b[0m\u001b[1;33m\u001b[0m\u001b[1;33m\u001b[0m\u001b[0m\n\u001b[0m\u001b[0;32m    119\u001b[0m     \u001b[0ma\u001b[0m \u001b[1;33m=\u001b[0m \u001b[0mevaluate_position\u001b[0m\u001b[1;33m(\u001b[0m\u001b[0mboard_after_i\u001b[0m\u001b[1;33m)\u001b[0m\u001b[1;33m\u001b[0m\u001b[1;33m\u001b[0m\u001b[0m\n\u001b[0;32m    120\u001b[0m     \u001b[1;32mreturn\u001b[0m \u001b[0ma\u001b[0m\u001b[1;33m\u001b[0m\u001b[1;33m\u001b[0m\u001b[0m\n",
      "\u001b[1;32mc:\\Users\\faust\\Documents\\CS\\3A\\Module 3\\RL\\Projet\\Puissance_Quatre_RL\\agents\\malynx_deep.py\u001b[0m in \u001b[0;36mnew_move\u001b[1;34m(board, i)\u001b[0m\n\u001b[0;32m    111\u001b[0m         \u001b[0mprint\u001b[0m\u001b[1;33m(\u001b[0m\u001b[1;34m\"on est tout en haut y a pas de place\"\u001b[0m\u001b[1;33m)\u001b[0m\u001b[1;33m\u001b[0m\u001b[1;33m\u001b[0m\u001b[0m\n\u001b[0;32m    112\u001b[0m     \u001b[1;32melse\u001b[0m \u001b[1;33m:\u001b[0m\u001b[1;33m\u001b[0m\u001b[1;33m\u001b[0m\u001b[0m\n\u001b[1;32m--> 113\u001b[1;33m         \u001b[0mnew_board\u001b[0m \u001b[1;33m=\u001b[0m \u001b[0mboard\u001b[0m\u001b[1;33m.\u001b[0m\u001b[0mcopy\u001b[0m\u001b[1;33m(\u001b[0m\u001b[1;33m)\u001b[0m\u001b[1;33m\u001b[0m\u001b[1;33m\u001b[0m\u001b[0m\n\u001b[0m\u001b[0;32m    114\u001b[0m         \u001b[0mnew_board\u001b[0m\u001b[1;33m[\u001b[0m\u001b[0mlayer\u001b[0m\u001b[1;33m,\u001b[0m\u001b[0mi\u001b[0m\u001b[1;33m]\u001b[0m \u001b[1;33m=\u001b[0m \u001b[1;36m1\u001b[0m\u001b[1;33m\u001b[0m\u001b[1;33m\u001b[0m\u001b[0m\n\u001b[0;32m    115\u001b[0m     \u001b[1;32mreturn\u001b[0m \u001b[0mnew_board\u001b[0m\u001b[1;33m\u001b[0m\u001b[1;33m\u001b[0m\u001b[0m\n",
      "\u001b[1;31mKeyboardInterrupt\u001b[0m: "
     ]
    }
   ],
   "source": [
    "train_against_opponent(malynx_deep_agent)"
   ]
  },
  {
   "cell_type": "markdown",
   "metadata": {},
   "source": [
    "# Let's save our agent"
   ]
  },
  {
   "cell_type": "code",
   "execution_count": null,
   "metadata": {},
   "outputs": [],
   "source": [
    "save_agent(q_learning_agent, \"training/agent_q_learner_1.pkl\")"
   ]
  }
 ],
 "metadata": {
  "kernelspec": {
   "display_name": "Python 3",
   "language": "python",
   "name": "python3"
  },
  "language_info": {
   "codemirror_mode": {
    "name": "ipython",
    "version": 3
   },
   "file_extension": ".py",
   "mimetype": "text/x-python",
   "name": "python",
   "nbconvert_exporter": "python",
   "pygments_lexer": "ipython3",
   "version": "3.8.5"
  }
 },
 "nbformat": 4,
 "nbformat_minor": 5
}
